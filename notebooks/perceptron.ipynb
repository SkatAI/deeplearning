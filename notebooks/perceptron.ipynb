{
  "nbformat": 4,
  "nbformat_minor": 0,
  "metadata": {
    "colab": {
      "provenance": []
    },
    "kernelspec": {
      "name": "python3",
      "display_name": "Python 3"
    },
    "language_info": {
      "name": "python"
    }
  },
  "cells": [
    {
      "cell_type": "markdown",
      "source": [
        "# Perceptron\n",
        "\n",
        "Dans ce notebook nous allons implementer l'algorithme du perceptron\n",
        "avec 2 temps: sans puis avec le learning rate\n",
        "\n",
        "Nous observerons\n",
        "- la convergence du perceptron sur les OR et sur le XOR\n",
        "- la dépendence aux valeurs d'initialisation\n",
        "- l'impact du learning rate\n"
      ],
      "metadata": {
        "id": "OD_oZpuWh0av"
      }
    },
    {
      "cell_type": "markdown",
      "source": [
        "## L'agorithme du perceptron\n",
        "\n",
        "Soit X une matrice de N echantillons de taille p et y le vecteur de classification binaire à valeurd dans [0, 1]\n",
        "\n",
        "L'algorithme va trouver les coefficients w et le biais b tels que\n",
        "\n",
        "H(w.X^T + b) = y\n",
        "\n",
        "ou H est la fonction de heavyside :\n",
        "\n",
        "H(x) = 0 si x < 0 1 sinon\n",
        "\n",
        "\n",
        "\n",
        "1. initialisation des valeurs\n",
        "    ```\n",
        "    w = np.zeros(p)\n",
        "    b = 0\n",
        "    ```\n",
        "\n",
        "2. a chaque iteration :\n",
        "    - echantillon aleatoire de X et y : xi et yi\n",
        "    - calcul de y_hat = (w.xi + b)\n",
        "    - si y_hat != yi : maj des coefficients et du biais\n",
        "    ```\n",
        "    w += (yi - y_hat) * xi\n",
        "    b += (yi - y_hat)\n",
        "    ```\n",
        "\n"
      ],
      "metadata": {
        "id": "i9A2vurViX0W"
      }
    },
    {
      "cell_type": "code",
      "execution_count": 1,
      "metadata": {
        "id": "oYVp_b0rhXo6"
      },
      "outputs": [],
      "source": [
        "import numpy as np"
      ]
    },
    {
      "cell_type": "code",
      "source": [
        "# Input data\n",
        "X = np.array([[0, 0], [0, 1], [1, 0], [1, 1]])\n",
        "# Labels OR\n",
        "y = np.array([0, 1, 1, 1])\n",
        "# coeffs et biais\n",
        "w = np.zeros(X.shape[1])\n",
        "b = 0\n",
        "# Number of iterations\n",
        "n_iters = 20\n"
      ],
      "metadata": {
        "id": "AI4gw0qCk8RI"
      },
      "execution_count": 5,
      "outputs": []
    },
    {
      "cell_type": "code",
      "source": [
        "for n in range(n_iters):\n",
        "    # Echantillonage\n",
        "    idx = np.random.randint(0, len(y))\n",
        "    xi = X[idx]\n",
        "    target = y[idx]\n",
        "\n",
        "    # combinaison linéaire des coefficients et du biais\n",
        "    sample_output = np.dot(xi, w) + b\n",
        "    # Prediction avec la fonction de Heavyside\n",
        "    y_pred = 1 if sample_output >= 0 else 0\n",
        "\n",
        "    # Mise a jour des coefficients et du biais\n",
        "    update = target - y_pred\n",
        "    w += update * xi\n",
        "    b += update\n",
        "\n",
        "    # test de convergence\n",
        "    full_output = np.dot(X, np.transpose(w))  + b\n",
        "    full_output = np.where(full_output < 0, 0, 1)\n",
        "    loss = np.sum(np.abs(full_output-y))\n",
        "    if loss == 0:\n",
        "        print(f\"Iteration {n+1}: Target={target}, Input={xi}, Weights={w}, Bias={b}, Loss={loss}\")\n",
        "        print(f\"-- convergence ! {n} iterations\")\n",
        "        break;\n",
        "    else:\n",
        "        print(f\"Iteration {n+1}: Target={target}, Input={xi}, Weights={w}, Bias={b}, Loss={loss}\")\n",
        "\n",
        "print(\"Final Weights:\", w)\n",
        "print(\"Final Bias:\", b)\n"
      ],
      "metadata": {
        "colab": {
          "base_uri": "https://localhost:8080/"
        },
        "id": "mxMzpZ1zlI3n",
        "outputId": "e57a05e0-90a9-4b98-9c1b-6ea2ce45f861"
      },
      "execution_count": 35,
      "outputs": [
        {
          "output_type": "stream",
          "name": "stdout",
          "text": [
            "Iteration 1: Target=1, Input=[-0.58099832  4.93874171], Weights=[-5.33528779  3.18561299], Bias=1.5, Loss=40\n",
            "Iteration 2: Target=0, Input=[2.25290596 7.70502627], Weights=[-7.58819375 -4.51941329], Bias=0.5, Loss=11\n",
            "Iteration 3: Target=1, Input=[-3.10340893  5.63263431], Weights=[-10.69160268   1.11322102], Bias=1.5, Loss=25\n",
            "Iteration 4: Target=1, Input=[-3.61186349  4.75339328], Weights=[-10.69160268   1.11322102], Bias=1.5, Loss=25\n",
            "Iteration 5: Target=0, Input=[-0.35907412  4.81421511], Weights=[-10.33252855  -3.70099409], Bias=0.5, Loss=11\n",
            "Iteration 6: Target=0, Input=[-1.22657869  1.04680477], Weights=[-9.10594986 -4.74779886], Bias=-0.5, Loss=11\n",
            "Iteration 7: Target=0, Input=[-0.50948418  6.31574377], Weights=[-9.10594986 -4.74779886], Bias=-0.5, Loss=11\n",
            "Iteration 8: Target=0, Input=[1.02646196 0.39418606], Weights=[-9.10594986 -4.74779886], Bias=-0.5, Loss=11\n",
            "Iteration 9: Target=0, Input=[-0.34066599  4.88640916], Weights=[-9.10594986 -4.74779886], Bias=-0.5, Loss=11\n",
            "Iteration 10: Target=1, Input=[-6.60697165  0.44710663], Weights=[-9.10594986 -4.74779886], Bias=-0.5, Loss=11\n",
            "Iteration 11: Target=1, Input=[-9.0555067   0.64583965], Weights=[-9.10594986 -4.74779886], Bias=-0.5, Loss=11\n",
            "Iteration 12: Target=0, Input=[1.44196387 9.30500427], Weights=[-9.10594986 -4.74779886], Bias=-0.5, Loss=11\n",
            "Iteration 13: Target=0, Input=[-2.02130995  5.9615658 ], Weights=[-9.10594986 -4.74779886], Bias=-0.5, Loss=11\n",
            "Iteration 14: Target=1, Input=[-7.25221915  5.2517756 ], Weights=[-9.10594986 -4.74779886], Bias=-0.5, Loss=11\n",
            "Iteration 15: Target=1, Input=[-9.0555067   0.64583965], Weights=[-9.10594986 -4.74779886], Bias=-0.5, Loss=11\n",
            "Iteration 16: Target=0, Input=[2.61051124 3.6618148 ], Weights=[-9.10594986 -4.74779886], Bias=-0.5, Loss=11\n",
            "Iteration 17: Target=0, Input=[2.61051124 3.6618148 ], Weights=[-9.10594986 -4.74779886], Bias=-0.5, Loss=11\n",
            "Iteration 18: Target=1, Input=[-6.31530093  4.05149662], Weights=[-9.10594986 -4.74779886], Bias=-0.5, Loss=11\n",
            "Iteration 19: Target=0, Input=[-1.27807776  7.1232653 ], Weights=[-9.10594986 -4.74779886], Bias=-0.5, Loss=11\n",
            "Iteration 20: Target=1, Input=[-4.93714308  5.2870468 ], Weights=[-9.10594986 -4.74779886], Bias=-0.5, Loss=11\n",
            "Final Weights: [-9.10594986 -4.74779886]\n",
            "Final Bias: -0.5\n"
          ]
        }
      ]
    },
    {
      "cell_type": "markdown",
      "source": [
        "# A vous\n",
        "\n",
        "- executez le code plusieurs fois et observez le nombre d'itérations nécessaires pour converger\n",
        "- modifiez les valeurs d'initialisations de w et b\n",
        "\n"
      ],
      "metadata": {
        "id": "MmnEhL60l2rV"
      }
    },
    {
      "cell_type": "markdown",
      "source": [
        "## XOR\n",
        "Le perceptron apprend OR mais peut il apprendre XOR (non linéairement séparable )"
      ],
      "metadata": {
        "id": "dEoVo7-Pmd0w"
      }
    },
    {
      "cell_type": "code",
      "source": [
        "# XOR\n",
        "y = np.array([0, 1, 1, 0])\n"
      ],
      "metadata": {
        "id": "oyixZgIBll23"
      },
      "execution_count": 7,
      "outputs": []
    },
    {
      "cell_type": "markdown",
      "source": [
        "# A vous\n",
        "\n",
        "Faites tourner le perceptron sur XOR, y a t il convergence ?"
      ],
      "metadata": {
        "id": "eoRobMjMmrHA"
      }
    },
    {
      "cell_type": "markdown",
      "source": [
        "# Learning rate\n",
        "\n",
        "Le learning rate est un parammtres important en machine learning qui règle la quantité de modification des coefficients à chaque itération.\n",
        "\n",
        "pour ajouter le learning rate _alpha_ , il suffit de modifier la ligne\n",
        "\n",
        "```\n",
        "    update = target - y_pred\n",
        "```\n",
        "en\n",
        "```\n",
        "    update = alpha * (target - y_pred)\n",
        "```\n",
        "où _alpha_  <= 1\n",
        "\n",
        "Le code devient"
      ],
      "metadata": {
        "id": "hhGw2cw2mv9j"
      }
    },
    {
      "cell_type": "code",
      "source": [
        "# Input data\n",
        "X = np.array([[0, 0], [0, 1], [1, 0], [1, 1]])\n",
        "# Labels OR\n",
        "y = np.array([0, 1, 1, 1])\n",
        "# coeffs et biais\n",
        "w = np.zeros(X.shape[1])\n",
        "b = 0\n",
        "# Number of iterations\n",
        "n_iters = 20\n",
        "\n",
        "# learning rate\n",
        "alpha = 0.5\n"
      ],
      "metadata": {
        "id": "RHz_Y_70nrAa"
      },
      "execution_count": null,
      "outputs": []
    },
    {
      "cell_type": "code",
      "source": [
        "for n in range(n_iters):\n",
        "    # Echantillonage\n",
        "    idx = np.random.randint(0, len(y))\n",
        "    xi = X[idx]\n",
        "    target = y[idx]\n",
        "\n",
        "    # combinaison linéaire des coefficients et du biais\n",
        "    sample_output = np.dot(xi, w) + b\n",
        "    # Prediction avec la fonction de Heavyside\n",
        "    y_pred = 1 if sample_output >= 0 else 0\n",
        "\n",
        "    # Mise a jour des coefficients et du biais\n",
        "    update = alpha * (target - y_pred)\n",
        "    w += update * xi\n",
        "    b += update\n",
        "\n",
        "    # test de convergence\n",
        "    full_output = np.dot(X, np.transpose(w))  + b\n",
        "    full_output = np.where(full_output < 0, 0, 1)\n",
        "    loss = np.sum(np.abs(full_output-y))\n",
        "    if loss == 0:\n",
        "        print(f\"Iteration {n+1}: Target={target}, Input={xi}, Weights={w}, Bias={b}, Loss={loss}\")\n",
        "        print(f\"-- convergence ! {n} iterations\")\n",
        "        break;\n",
        "    else:\n",
        "        print(f\"Iteration {n+1}: Target={target}, Input={xi}, Weights={w}, Bias={b}, Loss={loss}\")\n",
        "\n",
        "print(\"Final Weights:\", w)\n",
        "print(\"Final Bias:\", b)\n"
      ],
      "metadata": {
        "colab": {
          "base_uri": "https://localhost:8080/"
        },
        "outputId": "453589fc-7ad4-4555-a570-98000317b7fb",
        "id": "taY_DzamsBtB"
      },
      "execution_count": 36,
      "outputs": [
        {
          "output_type": "stream",
          "name": "stdout",
          "text": [
            "Iteration 1: Target=1, Input=[-2.57496023  5.76478205], Weights=[-10.39342997  -1.86540784], Bias=0.0, Loss=14\n",
            "Iteration 2: Target=1, Input=[-3.09986997  3.69237421], Weights=[-10.39342997  -1.86540784], Bias=0.0, Loss=14\n",
            "Iteration 3: Target=1, Input=[-6.66979708  3.40578039], Weights=[-10.39342997  -1.86540784], Bias=0.0, Loss=14\n",
            "Iteration 4: Target=1, Input=[-6.92906745  1.99022423], Weights=[-10.39342997  -1.86540784], Bias=0.0, Loss=14\n",
            "Iteration 5: Target=0, Input=[-1.22657869  1.04680477], Weights=[-9.78014063 -2.38881022], Bias=-0.5, Loss=12\n",
            "Iteration 6: Target=1, Input=[-6.04876215  5.03489732], Weights=[-9.78014063 -2.38881022], Bias=-0.5, Loss=12\n",
            "Iteration 7: Target=0, Input=[2.37305899 2.33491067], Weights=[-9.78014063 -2.38881022], Bias=-0.5, Loss=12\n",
            "Iteration 8: Target=1, Input=[-6.92906745  1.99022423], Weights=[-9.78014063 -2.38881022], Bias=-0.5, Loss=12\n",
            "Iteration 9: Target=1, Input=[-0.58099832  4.93874171], Weights=[-10.07063979   0.08056063], Bias=0.0, Loss=20\n",
            "Iteration 10: Target=0, Input=[-1.73169386  0.61289115], Weights=[-9.20479286 -0.22588494], Bias=-0.5, Loss=19\n",
            "Iteration 11: Target=0, Input=[1.86947217 2.41858409], Weights=[-9.20479286 -0.22588494], Bias=-0.5, Loss=19\n",
            "Iteration 12: Target=0, Input=[-1.53721624  5.75836497], Weights=[-8.43618474 -3.10506743], Bias=-1.0, Loss=10\n",
            "Iteration 13: Target=0, Input=[0.70633215 4.97670276], Weights=[-8.43618474 -3.10506743], Bias=-1.0, Loss=10\n",
            "Iteration 14: Target=0, Input=[-0.35907412  4.81421511], Weights=[-8.43618474 -3.10506743], Bias=-1.0, Loss=10\n",
            "Iteration 15: Target=0, Input=[-1.85787777  3.37209289], Weights=[-7.50724585 -4.79111387], Bias=-1.5, Loss=10\n",
            "Iteration 16: Target=0, Input=[0.98537941 5.19386183], Weights=[-7.50724585 -4.79111387], Bias=-1.5, Loss=10\n",
            "Iteration 17: Target=1, Input=[-1.50484474  4.85110516], Weights=[-8.25966822 -2.36556129], Bias=-1.0, Loss=12\n",
            "Iteration 18: Target=0, Input=[2.25290596 7.70502627], Weights=[-8.25966822 -2.36556129], Bias=-1.0, Loss=12\n",
            "Iteration 19: Target=0, Input=[-0.82342136  2.01919421], Weights=[-7.84795754 -3.3751584 ], Bias=-1.5, Loss=10\n",
            "Iteration 20: Target=0, Input=[-1.73169386  0.61289115], Weights=[-6.98211062 -3.68160397], Bias=-2.0, Loss=11\n",
            "Final Weights: [-6.98211062 -3.68160397]\n",
            "Final Bias: -2.0\n"
          ]
        }
      ]
    },
    {
      "cell_type": "markdown",
      "source": [
        "# A vous\n",
        "\n",
        "Pour alpha = 1 on retrouve la premiere version du perceptron\n",
        "\n",
        "faites tourner le code pour des valeurs de alpha variant de tres petit (0.01 ou moins) à proche de 1\n",
        "\n",
        "Quel est l'impact du learning rate ?"
      ],
      "metadata": {
        "id": "eqapC_gynzCl"
      }
    },
    {
      "cell_type": "markdown",
      "source": [
        "# Blobs\n",
        "\n",
        "Prenons maintenant un dataset plus complexe avec la fonction `make_blob` de scikit-learn\n",
        "\n",
        "https://scikit-learn.org/stable/modules/generated/sklearn.datasets.make_blobs.html"
      ],
      "metadata": {
        "id": "Ngo7f1tCoNB1"
      }
    },
    {
      "cell_type": "code",
      "source": [
        "from sklearn.datasets import make_blobs\n",
        "import matplotlib.pyplot as plt\n",
        "\n",
        "X, y = make_blobs(n_samples=30, centers=2, n_features=2, random_state=80, cluster_std = 1.0)\n",
        "print(X.shape)\n",
        "print(y)\n",
        "plt.scatter(X[:, 0], X[:, 1], c=y, cmap='coolwarm', label=['Class 0', 'Class 1'])\n",
        "\n"
      ],
      "metadata": {
        "colab": {
          "base_uri": "https://localhost:8080/",
          "height": 482
        },
        "id": "fkBhDbRboL3M",
        "outputId": "5ced87d3-8837-479b-e8d1-a932488c5510"
      },
      "execution_count": 26,
      "outputs": [
        {
          "output_type": "stream",
          "name": "stdout",
          "text": [
            "(30, 2)\n",
            "[0 0 0 1 0 1 1 0 0 1 0 0 1 0 1 1 0 0 1 1 0 0 1 0 1 1 1 1 0 1]\n"
          ]
        },
        {
          "output_type": "execute_result",
          "data": {
            "text/plain": [
              "<matplotlib.collections.PathCollection at 0x7bd963d40fd0>"
            ]
          },
          "metadata": {},
          "execution_count": 26
        },
        {
          "output_type": "display_data",
          "data": {
            "text/plain": [
              "<Figure size 640x480 with 1 Axes>"
            ],
            "image/png": "[encoded data removed]"
          },
          "metadata": {}
        }
      ]
    },
    {
      "cell_type": "markdown",
      "source": [
        "Faites tourner le perceptron sur ce dataset"
      ],
      "metadata": {
        "id": "P-dZVVudqV8z"
      }
    },
    {
      "cell_type": "code",
      "source": [
        "X, y = make_blobs(n_samples=100, centers=2, n_features=2, random_state=80, cluster_std = 1.0)\n",
        "plt.scatter(X[:, 0], X[:, 1], c=y, cmap='coolwarm')\n",
        "\n",
        "w = np.zeros(X.shape[1])\n",
        "b = 0\n",
        "# Number of iterations\n",
        "n_iters = 20\n",
        "\n",
        "# learning rate\n",
        "alpha = 0.1\n",
        "\n",
        "for n in range(n_iters):\n",
        "    # Echantillonage\n",
        "    idx = np.random.randint(0, len(y))\n",
        "    xi = X[idx]\n",
        "    target = y[idx]\n",
        "\n",
        "    # combinaison linéaire des coefficients et du biais\n",
        "    sample_output = np.dot(xi, w) + b\n",
        "    # Prediction avec la fonction de Heavyside\n",
        "    y_pred = 1 if sample_output >= 0 else 0\n",
        "\n",
        "    # Mise a jour des coefficients et du biais\n",
        "    update = alpha * (target - y_pred)\n",
        "    w += update * xi\n",
        "    b += update\n",
        "\n",
        "    # test de convergence\n",
        "    full_output = np.dot(X, np.transpose(w))  + b\n",
        "    full_output = np.where(full_output < 0, 0, 1)\n",
        "    loss = np.sum(np.abs(full_output-y))\n",
        "    if loss == 0:\n",
        "        print(f\"Iteration {n+1}: Target={target}, Input={xi}, Weights={w}, Bias={b}, Loss={loss}\")\n",
        "        print(f\"-- convergence ! {n} iterations\")\n",
        "        break;\n",
        "    else:\n",
        "        print(f\"Iteration {n+1}: Target={target}, Input={xi}, Weights={w}, Bias={b}, Loss={loss}\")\n",
        "\n",
        "print(\"Final Weights:\", w)\n",
        "print(\"Final Bias:\", b)"
      ],
      "metadata": {
        "colab": {
          "base_uri": "https://localhost:8080/",
          "height": 812
        },
        "id": "CuKQGZI8pEEW",
        "outputId": "87a046ae-1028-47d6-fcf9-09494ec67d9b"
      },
      "execution_count": 38,
      "outputs": [
        {
          "output_type": "stream",
          "name": "stdout",
          "text": [
            "Iteration 1: Target=1, Input=[-3.85626805  3.86668954], Weights=[0. 0.], Bias=0.0, Loss=50\n",
            "Iteration 2: Target=1, Input=[-5.40151821  5.82920795], Weights=[0. 0.], Bias=0.0, Loss=50\n",
            "Iteration 3: Target=0, Input=[1.15389325 3.20335572], Weights=[-0.11538932 -0.32033557], Bias=-0.1, Loss=49\n",
            "Iteration 4: Target=1, Input=[-3.73818859  3.19147973], Weights=[-0.48920818 -0.0011876 ], Bias=0.0, Loss=17\n",
            "Iteration 5: Target=0, Input=[-0.03558493  5.15193556], Weights=[-0.48564969 -0.51638115], Bias=-0.1, Loss=19\n",
            "Iteration 6: Target=1, Input=[-5.02236311  3.73510417], Weights=[-0.48564969 -0.51638115], Bias=-0.1, Loss=19\n",
            "Iteration 7: Target=1, Input=[-3.85301475  4.5611359 ], Weights=[-0.87095117 -0.06026756], Bias=0.0, Loss=11\n",
            "Iteration 8: Target=0, Input=[1.14274256 3.30578805], Weights=[-0.87095117 -0.06026756], Bias=0.0, Loss=11\n",
            "Iteration 9: Target=1, Input=[-3.58879041  4.62720977], Weights=[-0.87095117 -0.06026756], Bias=0.0, Loss=11\n",
            "Iteration 10: Target=1, Input=[-3.95390441  3.44885438], Weights=[-0.87095117 -0.06026756], Bias=0.0, Loss=11\n",
            "Iteration 11: Target=0, Input=[0.0396201  4.40117123], Weights=[-0.87095117 -0.06026756], Bias=0.0, Loss=11\n",
            "Iteration 12: Target=0, Input=[0.0396201  4.40117123], Weights=[-0.87095117 -0.06026756], Bias=0.0, Loss=11\n",
            "Iteration 13: Target=1, Input=[-3.19321136  2.93956451], Weights=[-0.87095117 -0.06026756], Bias=0.0, Loss=11\n",
            "Iteration 14: Target=0, Input=[-0.07035306  4.34329408], Weights=[-0.87095117 -0.06026756], Bias=0.0, Loss=11\n",
            "Iteration 15: Target=0, Input=[-0.41988172  5.55569632], Weights=[-0.828963  -0.6158372], Bias=-0.1, Loss=4\n",
            "Iteration 16: Target=0, Input=[0.40131185 3.16550754], Weights=[-0.828963  -0.6158372], Bias=-0.1, Loss=4\n",
            "Iteration 17: Target=0, Input=[2.46238965 3.43985673], Weights=[-0.828963  -0.6158372], Bias=-0.1, Loss=4\n",
            "Iteration 18: Target=1, Input=[-5.63620883  3.44770894], Weights=[-0.828963  -0.6158372], Bias=-0.1, Loss=4\n",
            "Iteration 19: Target=0, Input=[1.29275439 4.17896462], Weights=[-0.828963  -0.6158372], Bias=-0.1, Loss=4\n",
            "Iteration 20: Target=0, Input=[0.99111658 6.27759871], Weights=[-0.828963  -0.6158372], Bias=-0.1, Loss=4\n",
            "Final Weights: [-0.828963  -0.6158372]\n",
            "Final Bias: -0.1\n"
          ]
        },
        {
          "output_type": "display_data",
          "data": {
            "text/plain": [
              "<Figure size 640x480 with 1 Axes>"
            ],
            "image/png": "[encoded data removed]"
          },
          "metadata": {}
        }
      ]
    },
    {
      "cell_type": "markdown",
      "source": [
        "# A vous\n",
        "Que se passe t il quand on augmente la variance de X ?\n",
        "\n",
        "cluster_std = 2.0"
      ],
      "metadata": {
        "id": "WKVdHBisrTt7"
      }
    },
    {
      "cell_type": "code",
      "source": [],
      "metadata": {
        "id": "Q6XoN5K_qx3L"
      },
      "execution_count": null,
      "outputs": []
    }
  ]
}