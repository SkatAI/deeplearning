{
  "cells": [
    {
      "cell_type": "markdown",
      "metadata": {
        "id": "gYhsn9ZcfoCN"
      },
      "source": [
        "# CNN\n",
        "\n",
        "Suite du notebook CNN sur le ConvNet\n",
        "\n",
        "On v a\n",
        "- charger une serie temporelle\n",
        "- la sequencer\n",
        "\n",
        "et appliquer un ConvNet avec des filtres de dimension 1 sur la serie temporelle\n",
        "\n"
      ]
    },
    {
      "cell_type": "code",
      "execution_count": 2,
      "metadata": {
        "id": "RJ2t-4NzfjoM"
      },
      "outputs": [],
      "source": [
        "import numpy as np\n",
        "import pandas as pd\n",
        "import yfinance as yf\n",
        "import datetime as dt\n",
        "import matplotlib.pyplot as plt\n",
        "import math\n",
        "\n",
        "pd.set_option('display.max_columns',30)\n",
        "pd.set_option('display.max_rows',10)\n"
      ]
    },
    {
      "cell_type": "code",
      "execution_count": 3,
      "metadata": {
        "id": "Z-ndKBcFgSh2",
        "colab": {
          "base_uri": "https://localhost:8080/"
        },
        "outputId": "5914dde1-a579-4aca-ef50-0d733b18974d"
      },
      "outputs": [
        {
          "output_type": "stream",
          "name": "stderr",
          "text": [
            "\r[*********************100%%**********************]  1 of 1 completed"
          ]
        },
        {
          "output_type": "stream",
          "name": "stdout",
          "text": [
            "\n",
            "\n",
            "                 Open       High        Low      Close  Adj Close    Volume\n",
            "Date                                                                       \n",
            "2020-04-01  56.200001  56.471001  54.674500  55.105000  55.041828  51970000\n",
            "2020-04-02  55.000000  56.138500  54.656502  55.851501  55.787476  56410000\n",
            "2020-04-03  55.735500  55.939499  53.754002  54.634998  54.572365  51374000\n",
            "2020-04-06  56.650002  59.537498  56.250000  59.159500  59.091682  63320000\n",
            "2020-04-07  60.850498  61.039001  58.862499  59.127998  59.060215  61620000\n"
          ]
        },
        {
          "output_type": "stream",
          "name": "stderr",
          "text": [
            "\n"
          ]
        }
      ],
      "source": [
        "#the start and end date\n",
        "start_date = dt.datetime(2020,4,1)\n",
        "end_date = dt.datetime(2023,4,1)\n",
        "\n",
        "#loading from yahoo finance\n",
        "data = yf.download(\"GOOGL\",start_date, end_date)\n",
        "\n",
        "print()\n",
        "print()\n",
        "\n",
        "print(data.head())\n"
      ]
    },
    {
      "cell_type": "code",
      "execution_count": 4,
      "metadata": {
        "id": "7hQPl1C1gUV3",
        "colab": {
          "base_uri": "https://localhost:8080/"
        },
        "outputId": "3adefdb0-e3d6-4a80-8829-12c3960993fd"
      },
      "outputs": [
        {
          "output_type": "stream",
          "name": "stdout",
          "text": [
            "(605, 1) (151, 1)\n"
          ]
        }
      ],
      "source": [
        "# Setting 80 percent data for training\n",
        "training_data_len = math.ceil(len(data) * .8)\n",
        "training_data_len\n",
        "\n",
        "#Splitting the dataset\n",
        "train_data = data[:training_data_len].iloc[:,:1]\n",
        "test_data = data[training_data_len:].iloc[:,:1]\n",
        "print(train_data.shape, test_data.shape)\n"
      ]
    },
    {
      "cell_type": "code",
      "execution_count": 5,
      "metadata": {
        "id": "PaAGUrXmgYCP",
        "colab": {
          "base_uri": "https://localhost:8080/"
        },
        "outputId": "956406b3-6363-4f05-9221-d4d88d8ecadc"
      },
      "outputs": [
        {
          "output_type": "execute_result",
          "data": {
            "text/plain": [
              "array([56.20000076, 55.        ])"
            ]
          },
          "metadata": {},
          "execution_count": 5
        }
      ],
      "source": [
        "# Selecting Open Price values\n",
        "dataset_train = train_data.Open.values\n",
        "# Reshaping 1D to 2D array\n",
        "# dataset_train = np.reshape(dataset_train, (-1,1))\n",
        "# dataset_train.shape\n",
        "dataset_train[:2]"
      ]
    },
    {
      "cell_type": "code",
      "execution_count": 6,
      "metadata": {
        "id": "AQnuscUemvl7",
        "colab": {
          "base_uri": "https://localhost:8080/"
        },
        "outputId": "433e3c48-ee8f-4852-946f-fd386a9ad72c"
      },
      "outputs": [
        {
          "output_type": "execute_result",
          "data": {
            "text/plain": [
              "(605, 1)"
            ]
          },
          "metadata": {},
          "execution_count": 6
        }
      ],
      "source": [
        "dataset_train = np.reshape(dataset_train, (-1,1))\n",
        "dataset_train.shape"
      ]
    },
    {
      "cell_type": "code",
      "execution_count": 7,
      "metadata": {
        "id": "AsJf3IdmnFAE",
        "colab": {
          "base_uri": "https://localhost:8080/"
        },
        "outputId": "6fb36e76-6f52-4f7f-b035-d82f4278045d"
      },
      "outputs": [
        {
          "output_type": "execute_result",
          "data": {
            "text/plain": [
              "array([[56.20000076],\n",
              "       [55.        ]])"
            ]
          },
          "metadata": {},
          "execution_count": 7
        }
      ],
      "source": [
        "dataset_train[:2]"
      ]
    },
    {
      "cell_type": "markdown",
      "metadata": {
        "id": "uJql1PiynEpt"
      },
      "source": []
    },
    {
      "cell_type": "code",
      "execution_count": 8,
      "metadata": {
        "id": "-ceWkbGbgblP",
        "colab": {
          "base_uri": "https://localhost:8080/"
        },
        "outputId": "5e598d5b-5eca-4b27-c9f0-c79a62fc848a"
      },
      "outputs": [
        {
          "output_type": "stream",
          "name": "stdout",
          "text": [
            "[[0.01246754]\n",
            " [0.        ]\n",
            " [0.00764156]\n",
            " [0.01714287]\n",
            " [0.0607844 ]]\n"
          ]
        }
      ],
      "source": [
        "from sklearn.preprocessing import MinMaxScaler\n",
        "scaler = MinMaxScaler(feature_range=(0,1))\n",
        "# scaling dataset\n",
        "scaled_train = scaler.fit_transform(dataset_train)\n",
        "\n",
        "print(scaled_train[:5])\n"
      ]
    },
    {
      "cell_type": "code",
      "execution_count": 9,
      "metadata": {
        "id": "C3N7e46Kgd7l",
        "colab": {
          "base_uri": "https://localhost:8080/"
        },
        "outputId": "b0d7fdb5-c203-480f-b524-db90dcd0bff5"
      },
      "outputs": [
        {
          "output_type": "stream",
          "name": "stdout",
          "text": [
            "[0.98362881] [1.] [0.83867656] [0.84481572] [0.86118691]\n"
          ]
        }
      ],
      "source": [
        "# Selecting Open Price values\n",
        "dataset_test = test_data.Open.values\n",
        "# Reshaping 1D to 2D array\n",
        "dataset_test = np.reshape(dataset_test, (-1,1))\n",
        "# Normalizing values between 0 and 1\n",
        "scaled_test = scaler.fit_transform(dataset_test)\n",
        "print(*scaled_test[:5])\n"
      ]
    },
    {
      "cell_type": "code",
      "execution_count": 10,
      "metadata": {
        "id": "liE02_7Wggs9",
        "colab": {
          "base_uri": "https://localhost:8080/"
        },
        "outputId": "79929676-a030-448b-d6f8-f22b3b34e5ae"
      },
      "outputs": [
        {
          "output_type": "stream",
          "name": "stdout",
          "text": [
            "[array([0.01246754, 0.        , 0.00764156, 0.01714287, 0.0607844 ,\n",
            "       0.05355843, 0.06139221, 0.05272728, 0.0727117 , 0.0761091 ,\n",
            "       0.08682596, 0.0943896 , 0.08825454, 0.07413508, 0.0733039 ,\n",
            "       0.08609869, 0.08051948, 0.09974024, 0.09516887, 0.12727273,\n",
            "       0.12018702, 0.11641037, 0.1081195 , 0.12337662, 0.13402599,\n",
            "       0.13574544, 0.14640004, 0.14378702, 0.16011432, 0.14345973,\n",
            "       0.12130912, 0.12896625, 0.13588574, 0.14830132, 0.15021299,\n",
            "       0.16155324, 0.15787013, 0.17764155, 0.16623377, 0.15584416,\n",
            "       0.16645714, 0.16919484, 0.17402597, 0.178026  , 0.17495062,\n",
            "       0.16396881, 0.16949613, 0.17934547, 0.18779741, 0.17715843])]\n",
            "[0.16927791446834417]\n",
            "\n",
            "[array([0.01246754, 0.        , 0.00764156, 0.01714287, 0.0607844 ,\n",
            "       0.05355843, 0.06139221, 0.05272728, 0.0727117 , 0.0761091 ,\n",
            "       0.08682596, 0.0943896 , 0.08825454, 0.07413508, 0.0733039 ,\n",
            "       0.08609869, 0.08051948, 0.09974024, 0.09516887, 0.12727273,\n",
            "       0.12018702, 0.11641037, 0.1081195 , 0.12337662, 0.13402599,\n",
            "       0.13574544, 0.14640004, 0.14378702, 0.16011432, 0.14345973,\n",
            "       0.12130912, 0.12896625, 0.13588574, 0.14830132, 0.15021299,\n",
            "       0.16155324, 0.15787013, 0.17764155, 0.16623377, 0.15584416,\n",
            "       0.16645714, 0.16919484, 0.17402597, 0.178026  , 0.17495062,\n",
            "       0.16396881, 0.16949613, 0.17934547, 0.18779741, 0.17715843]), array([0.        , 0.00764156, 0.01714287, 0.0607844 , 0.05355843,\n",
            "       0.06139221, 0.05272728, 0.0727117 , 0.0761091 , 0.08682596,\n",
            "       0.0943896 , 0.08825454, 0.07413508, 0.0733039 , 0.08609869,\n",
            "       0.08051948, 0.09974024, 0.09516887, 0.12727273, 0.12018702,\n",
            "       0.11641037, 0.1081195 , 0.12337662, 0.13402599, 0.13574544,\n",
            "       0.14640004, 0.14378702, 0.16011432, 0.14345973, 0.12130912,\n",
            "       0.12896625, 0.13588574, 0.14830132, 0.15021299, 0.16155324,\n",
            "       0.15787013, 0.17764155, 0.16623377, 0.15584416, 0.16645714,\n",
            "       0.16919484, 0.17402597, 0.178026  , 0.17495062, 0.16396881,\n",
            "       0.16949613, 0.17934547, 0.18779741, 0.17715843, 0.16927791])]\n",
            "[0.16927791446834417, 0.15038444221793834]\n",
            "\n"
          ]
        }
      ],
      "source": [
        "X_train = []\n",
        "y_train = []\n",
        "for i in range(50, len(scaled_train)):\n",
        "\tX_train.append(scaled_train[i-50:i, 0])\n",
        "\ty_train.append(scaled_train[i, 0])\n",
        "\tif i <= 51:\n",
        "\t\tprint(X_train)\n",
        "\t\tprint(y_train)\n",
        "\t\tprint()\n"
      ]
    },
    {
      "cell_type": "code",
      "execution_count": 11,
      "metadata": {
        "id": "5XJG33FXgle8"
      },
      "outputs": [],
      "source": [
        "X_test = []\n",
        "y_test = []\n",
        "for i in range(50, len(scaled_test)):\n",
        "\tX_test.append(scaled_test[i-50:i, 0])\n",
        "\ty_test.append(scaled_test[i, 0])\n"
      ]
    },
    {
      "cell_type": "markdown",
      "metadata": {
        "id": "ujbtZwdggu22"
      },
      "source": [
        "In this step, the data is converted into a format that is suitable for input to an RNN. np.reshape(X_train, (X_train.shape[0], X_train.shape[1], 1)) transforms the X_train array, which was originally a 2-dimensional array of shape (samples, features), into a 3-dimensional array of shape (samples, time steps, features), where time steps denotes the number of time steps in the input sequence and features denotes the number of features in the input data. Size 1 is an additional dimension that serves as an indication that each time step only has a single feature.\n",
        "\n",
        "The y_train array is transformed from a 1-dimensional array of shape (samples) into a 2-dimensional array of shape (samples, 1) by np.reshape(y_train, (y_train.shape[0], 1)), where each row represents the output value at a certain time step."
      ]
    },
    {
      "cell_type": "code",
      "execution_count": 12,
      "metadata": {
        "id": "PUyrOH5fgoo_",
        "colab": {
          "base_uri": "https://localhost:8080/"
        },
        "outputId": "5044adc2-059a-4c12-a4dc-f8aefd4d0fbd"
      },
      "outputs": [
        {
          "output_type": "stream",
          "name": "stdout",
          "text": [
            "X_train : (555, 50, 1) y_train : (555, 1)\n"
          ]
        }
      ],
      "source": [
        "# The data is converted to Numpy array\n",
        "X_train, y_train = np.array(X_train), np.array(y_train)\n",
        "\n",
        "#Reshaping\n",
        "X_train = np.reshape(X_train, (X_train.shape[0], X_train.shape[1],1))\n",
        "y_train = np.reshape(y_train, (y_train.shape[0],1))\n",
        "print(\"X_train :\",X_train.shape,\"y_train :\",y_train.shape)\n"
      ]
    },
    {
      "cell_type": "code",
      "execution_count": 13,
      "metadata": {
        "id": "roli_c4IgwjK",
        "colab": {
          "base_uri": "https://localhost:8080/"
        },
        "outputId": "9a886d1d-b377-4b42-eee8-02d09ea946f1"
      },
      "outputs": [
        {
          "output_type": "stream",
          "name": "stdout",
          "text": [
            "X_test : (101, 50, 1) y_test : (101, 1)\n"
          ]
        }
      ],
      "source": [
        "# The data is converted to numpy array\n",
        "X_test, y_test = np.array(X_test), np.array(y_test)\n",
        "\n",
        "#Reshaping\n",
        "X_test = np.reshape(X_test, (X_test.shape[0], X_test.shape[1],1))\n",
        "y_test = np.reshape(y_test, (y_test.shape[0],1))\n",
        "print(\"X_test :\",X_test.shape,\"y_test :\",y_test.shape)\n"
      ]
    },
    {
      "cell_type": "markdown",
      "metadata": {
        "id": "wsrZQFrdg1zz"
      },
      "source": [
        "# Modelisation\n"
      ]
    },
    {
      "cell_type": "code",
      "source": [
        "import tensorflow as tf\n",
        "from tensorflow.keras.optimizers import RMSprop"
      ],
      "metadata": {
        "id": "cAuwqsGLTos4"
      },
      "execution_count": 16,
      "outputs": []
    },
    {
      "cell_type": "code",
      "execution_count": 14,
      "metadata": {
        "id": "DxyYdQREgzKR"
      },
      "outputs": [],
      "source": [
        "%load_ext tensorboard"
      ]
    },
    {
      "cell_type": "code",
      "source": [
        "import datetime, os\n",
        "logdir = os.path.join(\"logs\", datetime.datetime.now().strftime(\"%Y%m%d-%H%M%S\"))\n",
        "#  https://keras.io/api/callbacks/tensorboard/\n",
        "tensorboard_callback = tf.keras.callbacks.TensorBoard(logdir, histogram_freq=1)"
      ],
      "metadata": {
        "id": "lsxOpTTOTkzZ"
      },
      "execution_count": 17,
      "outputs": []
    },
    {
      "cell_type": "markdown",
      "source": [
        "# creation du modele"
      ],
      "metadata": {
        "id": "NSJTqPFETdW5"
      }
    },
    {
      "cell_type": "code",
      "source": [
        "\n",
        "def create_model():\n",
        "    model = tf.keras.models.Sequential([\n",
        "        # Note the input shape is the desired size of the image 150x150 with 3 bytes color\n",
        "        tf.keras.layers.Conv2D(32, (3,3), activation='relu', padding = 'same', input_shape=(224, 224, 3)),\n",
        "        tf.keras.layers.MaxPooling2D(2,2),\n",
        "        tf.keras.layers.Conv2D(64, (3,3), activation='relu', padding = 'same', input_shape=(122, 122, 32)),\n",
        "        tf.keras.layers.MaxPooling2D(2,2),\n",
        "        # Flatten the results to feed into a DNN\n",
        "        tf.keras.layers.Flatten(),\n",
        "        # 512 neuron hidden layer\n",
        "        tf.keras.layers.Dense(128, activation='relu'),\n",
        "        tf.keras.layers.Dropout(0.5),\n",
        "        # Only 1 output neuron. It will contain a value from 0-1 where 0 for 1 class ('cats') and 1 for the other ('dogs')\n",
        "        tf.keras.layers.Dense(1, activation='sigmoid')\n",
        "    ])\n",
        "\n",
        "\n",
        "    model.compile(optimizer=RMSprop(learning_rate=0.001),\n",
        "                loss='binary_crossentropy',\n",
        "                metrics = ['accuracy'])\n",
        "    return model"
      ],
      "metadata": {
        "id": "8RHQVE6yTNGZ"
      },
      "execution_count": null,
      "outputs": []
    },
    {
      "cell_type": "code",
      "source": [
        "model = create_model()\n",
        "model.summary()"
      ],
      "metadata": {
        "id": "F5IMleqoThUP"
      },
      "execution_count": null,
      "outputs": []
    },
    {
      "cell_type": "code",
      "source": [
        "history = model.fit(\n",
        "            (X_train, y_train),\n",
        "            epochs=20,\n",
        "            validation_data=(X_test, y_test),\n",
        "            verbose=2,\n",
        "            callbacks=[tensorboard_callback]\n",
        "            )"
      ],
      "metadata": {
        "id": "E-tKXSAqTvcn"
      },
      "execution_count": null,
      "outputs": []
    }
  ],
  "metadata": {
    "colab": {
      "provenance": []
    },
    "kernelspec": {
      "display_name": "Python 3",
      "name": "python3"
    },
    "language_info": {
      "name": "python"
    }
  },
  "nbformat": 4,
  "nbformat_minor": 0
}