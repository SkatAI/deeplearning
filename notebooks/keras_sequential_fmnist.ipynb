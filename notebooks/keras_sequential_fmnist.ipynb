{
  "nbformat": 4,
  "nbformat_minor": 0,
  "metadata": {
    "colab": {
      "provenance": []
    },
    "kernelspec": {
      "name": "python3",
      "display_name": "Python 3"
    },
    "language_info": {
      "name": "python"
    }
  },
  "cells": [
    {
      "cell_type": "markdown",
      "source": [
        "# Fashion Mnist - FF - Keras\n",
        "\n",
        "Dans ce notebook nous allons travailler sur Fashion MNIST un dataset plus conséquent que MNIST et construisant un reseau MLP avec Tensorflow - Keras\n",
        "\n",
        "[Fashion MNIST](https://github.com/zalandoresearch/fashion-mnist)\n",
        "\n",
        "| Label | Description |\n",
        "| --- | --- |\n",
        "| 0 | T-shirt/top |\n",
        "| 1 | Trouser |\n",
        "| 2 | Pullover |\n",
        "| 3 | Dress |\n",
        "| 4 | Coat |\n",
        "| 5 | Sandal |\n",
        "| 6 | Shirt |\n",
        "| 7 | Sneaker |\n",
        "| 8 | Bag |\n",
        "| 9 | Ankle boot |\n",
        "\n",
        "\n",
        "\n",
        "\n",
        "Le dataset est disponible dans [tf.keras.datasets](https://www.tensorflow.org/api_docs/python/tf/keras/datasets)"
      ],
      "metadata": {
        "id": "BQ3SdvD-TZ4z"
      }
    },
    {
      "cell_type": "markdown",
      "source": [],
      "metadata": {
        "id": "3EKraGFyUoOy"
      }
    },
    {
      "cell_type": "code",
      "execution_count": null,
      "metadata": {
        "id": "daGpz0BQTVQF"
      },
      "outputs": [],
      "source": [
        "import numpy as np\n",
        "import matplotlib.pyplot as plt\n",
        "\n",
        "import tensorflow as tf\n",
        "\n",
        "print(tf.__version__)"
      ]
    },
    {
      "cell_type": "markdown",
      "source": [
        "## Softmax\n",
        "\n",
        "La function softmax permet de transformer les valeurs de sortie du réseau en valeurs dans l'intervale [0,1] et donc interpretable comme des probabilités.\n",
        "\n",
        "Dans un contexte de classification avec N classe, le reseau produit un array de dimension N.\n",
        "\n",
        "La classe la plus probable est celle avec la plus grande valeur.\n",
        "\n",
        "Voici un exemple sur un array arbitraire"
      ],
      "metadata": {
        "id": "XSkfKxtrWOTT"
      }
    },
    {
      "cell_type": "code",
      "source": [
        "# soit un array de taille 4\n",
        "inputs = np.array([[1.1, 3.3, 4.4, 2.2]])\n",
        "inputs = tf.convert_to_tensor(inputs)\n",
        "print(f'input: {inputs.numpy()}')\n",
        "\n",
        "# appliquer la fonction softmax\n",
        "outputs = tf.keras.activations.softmax(inputs)\n",
        "print(f'output: {outputs.numpy()}')\n",
        "\n",
        "# on verifie que la somme des probabilité est bien 1\n",
        "sum = tf.reduce_sum(outputs)\n",
        "print(f'somme des proba: {sum}')\n",
        "\n",
        "# La categorie la plus probable est\n",
        "prediction = np.argmax(outputs)\n",
        "print(f'index categorie la plus probable: {prediction}')\n",
        "print(f'soit la valeur : {inputs.numpy()[0][prediction]}')\n"
      ],
      "metadata": {
        "id": "Z4ZQ_Jn9WCmf"
      },
      "execution_count": null,
      "outputs": []
    },
    {
      "cell_type": "code",
      "source": [
        "# charger le dataset\n",
        "fmnist = tf.keras.datasets.fashion_mnist\n",
        "(train_images, train_labels), (test_images, test_labels) = fmnist.load_data()"
      ],
      "metadata": {
        "id": "-JMDDEGwUQu3"
      },
      "execution_count": null,
      "outputs": []
    },
    {
      "cell_type": "code",
      "source": [
        "idx = 1802\n",
        "print(f'LABEL: {train_labels[idx]}')\n",
        "\n",
        "plt.imshow(train_images[idx])"
      ],
      "metadata": {
        "id": "5ypGkKv4VEJ5"
      },
      "execution_count": null,
      "outputs": []
    },
    {
      "cell_type": "code",
      "source": [
        "# Normaliser\n",
        "train_images  = train_images / 255.0\n",
        "test_images = test_images / 255.0"
      ],
      "metadata": {
        "id": "zzDUUUV8VLM0"
      },
      "execution_count": null,
      "outputs": []
    },
    {
      "cell_type": "code",
      "source": [
        "# Construire le modele\n",
        "\n",
        "model = tf.keras.models.Sequential([tf.keras.layers.Flatten(),\n",
        "                                    tf.keras.layers.Dense(128, activation=tf.nn.relu),\n",
        "                                    tf.keras.layers.Dense(10, activation=tf.nn.softmax)])"
      ],
      "metadata": {
        "id": "l7T3qKx0VogV"
      },
      "execution_count": null,
      "outputs": []
    },
    {
      "cell_type": "code",
      "source": [
        "# recap du modele\n",
        "\n",
        "model.summary()"
      ],
      "metadata": {
        "id": "jGT-3NQ7Yhmi"
      },
      "execution_count": null,
      "outputs": []
    },
    {
      "cell_type": "markdown",
      "source": [
        "## questions\n",
        "- pourquoi la premiere couche est Flatten ?\n",
        "- pourquoi la derniere couche est de dimension 10 ?\n"
      ],
      "metadata": {
        "id": "AI0IIUDIVxPr"
      }
    },
    {
      "cell_type": "code",
      "source": [
        "# build le modele\n",
        "\n",
        "model.compile(optimizer = 'adam',\n",
        "              loss = 'sparse_categorical_crossentropy',\n",
        "              metrics=['accuracy'])\n"
      ],
      "metadata": {
        "id": "7uLe7hqFVvRd"
      },
      "execution_count": null,
      "outputs": []
    },
    {
      "cell_type": "markdown",
      "source": [
        "## questions\n",
        "- que fait la fonction de cout : `sparse_categorical_crossentropy`\n",
        "- on a choisi la metrique accuracy, peut on en prendre d'autres ?\n"
      ],
      "metadata": {
        "id": "AbOLrUxybUE_"
      }
    },
    {
      "cell_type": "code",
      "source": [
        "# entrainer le modele\n",
        "model.fit(train_images, train_labels, epochs=5)"
      ],
      "metadata": {
        "id": "tV55SytOYS50"
      },
      "execution_count": null,
      "outputs": []
    },
    {
      "cell_type": "code",
      "source": [
        "# evaluer le modele sur la partie test\n",
        "model.evaluate(test_images, test_labels)"
      ],
      "metadata": {
        "id": "otvbq4R7Yc7U"
      },
      "execution_count": null,
      "outputs": []
    },
    {
      "cell_type": "code",
      "source": [
        "model.evaluate(train_images, train_labels)"
      ],
      "metadata": {
        "id": "WYJFfyFLe0wU"
      },
      "execution_count": null,
      "outputs": []
    },
    {
      "cell_type": "markdown",
      "source": [
        "# questions\n",
        "- sur quoi peut-on jouer pour ameliorer la performance du modèle ?\n",
        "- ce modèle est il en overfit ?"
      ],
      "metadata": {
        "id": "1uDnu6BjcQFk"
      }
    },
    {
      "cell_type": "code",
      "source": [
        "# voici le code complet du modele\n",
        "\n",
        "model = tf.keras.models.Sequential([tf.keras.layers.Flatten(),\n",
        "                                    tf.keras.layers.Dense(128, activation=tf.nn.relu),\n",
        "                                    tf.keras.layers.Dense(10, activation=tf.nn.softmax)])\n",
        "\n",
        "model.compile(optimizer = tf.keras.optimizers.Adam(),\n",
        "              loss = 'sparse_categorical_crossentropy',\n",
        "              metrics=['accuracy'])\n",
        "\n",
        "model.fit(train_images, train_labels, epochs=5)\n",
        "\n",
        "train_score = model.evaluate(train_images, train_labels)\n",
        "test_score = model.evaluate(test_images, test_labels)\n",
        "\n",
        "print(f\"train : {train_score}, test : {test_score} \")"
      ],
      "metadata": {
        "id": "vRqRcU1lbqDw"
      },
      "execution_count": null,
      "outputs": []
    },
    {
      "cell_type": "markdown",
      "source": [
        "## Exploration\n",
        "\n",
        "- que se passe t il quand on augmente la taille de la couche caché a 512 noeuds au niveau de la performance et du temps d'entrainement ? et à 1024 ?\n",
        "- quels sont les optimizers disponibles ? Comment influence t il le comportement du modèle ?\n",
        "- comment specifier le learning rate de l'optimizer ?\n",
        "- que se passe t il (perf, overfit) quand on rajoute une couche cachée ?\n"
      ],
      "metadata": {
        "id": "nRujQzbmdQxx"
      }
    },
    {
      "cell_type": "code",
      "source": [],
      "metadata": {
        "id": "4f0bPljOc15S"
      },
      "execution_count": null,
      "outputs": []
    }
  ]
}