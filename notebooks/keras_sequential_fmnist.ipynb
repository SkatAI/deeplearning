{
  "nbformat": 4,
  "nbformat_minor": 0,
  "metadata": {
    "colab": {
      "provenance": []
    },
    "kernelspec": {
      "name": "python3",
      "display_name": "Python 3"
    },
    "language_info": {
      "name": "python"
    }
  },
  "cells": [
    {
      "cell_type": "markdown",
      "source": [
        "# Fashion Mnist - FF - Keras\n",
        "\n",
        "Dans ce notebook nous allons travailler sur Fashion MNIST un dataset plus conséquent que MNIST et construisant un reseau MLP avec Tensorflow - Keras\n",
        "\n",
        "[Fashion MNIST](https://github.com/zalandoresearch/fashion-mnist)\n",
        "\n",
        "| Label | Description |\n",
        "| --- | --- |\n",
        "| 0 | T-shirt/top |\n",
        "| 1 | Trouser |\n",
        "| 2 | Pullover |\n",
        "| 3 | Dress |\n",
        "| 4 | Coat |\n",
        "| 5 | Sandal |\n",
        "| 6 | Shirt |\n",
        "| 7 | Sneaker |\n",
        "| 8 | Bag |\n",
        "| 9 | Ankle boot |\n",
        "\n",
        "\n",
        "\n",
        "\n",
        "Le dataset est disponible dans [tf.keras.datasets](https://www.tensorflow.org/api_docs/python/tf/keras/datasets)"
      ],
      "metadata": {
        "id": "BQ3SdvD-TZ4z"
      }
    },
    {
      "cell_type": "markdown",
      "source": [],
      "metadata": {
        "id": "3EKraGFyUoOy"
      }
    },
    {
      "cell_type": "code",
      "execution_count": 1,
      "metadata": {
        "colab": {
          "base_uri": "https://localhost:8080/"
        },
        "id": "daGpz0BQTVQF",
        "outputId": "aa139e3b-4a92-4a76-d203-7e50388683ac"
      },
      "outputs": [
        {
          "output_type": "stream",
          "name": "stdout",
          "text": [
            "2.15.0\n"
          ]
        }
      ],
      "source": [
        "import numpy as np\n",
        "import matplotlib.pyplot as plt\n",
        "\n",
        "import tensorflow as tf\n",
        "\n",
        "print(tf.__version__)"
      ]
    },
    {
      "cell_type": "markdown",
      "source": [
        "## Softmax\n",
        "\n",
        "La function softmax permet de transformer les valeurs de sortie du réseau en valeurs dans l'intervale [0,1] et donc interpretable comme des probabilités.\n",
        "\n",
        "Dans un contexte de classification avec N classe, le reseau produit un array de dimension N. La classe la plus probable est celle avec la plus grande valeur.\n",
        "\n",
        "Voici un exemple sur un array arbitraire"
      ],
      "metadata": {
        "id": "XSkfKxtrWOTT"
      }
    },
    {
      "cell_type": "code",
      "source": [
        "# soit un array de taille 4\n",
        "inputs = np.array([[1.1, 3.3, 4.4, 2.2]])\n",
        "inputs = tf.convert_to_tensor(inputs)\n",
        "print(f'input: {inputs.numpy()}')\n",
        "\n",
        "# appliquer la fonction softmax\n",
        "outputs = tf.keras.activations.softmax(inputs)\n",
        "print(f'output: {outputs.numpy()}')\n",
        "\n",
        "# on verifie que la somme des probabilité est bien 1\n",
        "sum = tf.reduce_sum(outputs)\n",
        "print(f'somme des proba: {sum}')\n",
        "\n",
        "# La categorie la plus probable est\n",
        "prediction = np.argmax(outputs)\n",
        "print(f'index categorie la plus probable: {prediction}')\n",
        "print(f'soit la valeur : {inputs.numpy()[0][prediction]}')\n"
      ],
      "metadata": {
        "colab": {
          "base_uri": "https://localhost:8080/"
        },
        "id": "Z4ZQ_Jn9WCmf",
        "outputId": "73ee93c5-333c-4d20-dd7c-e55bda4766df"
      },
      "execution_count": 3,
      "outputs": [
        {
          "output_type": "stream",
          "name": "stdout",
          "text": [
            "input: [[1.1 3.3 4.4 2.2]]\n",
            "output: [[0.02491168 0.22482822 0.67542129 0.07483881]]\n",
            "somme des proba: 1.0\n",
            "index categorie la plus probable: 2\n",
            "soit la valeur : 4.4\n"
          ]
        }
      ]
    },
    {
      "cell_type": "code",
      "source": [
        "# charger le dataset\n",
        "fmnist = tf.keras.datasets.fashion_mnist\n",
        "(train_images, train_labels), (test_images, test_labels) = fmnist.load_data()"
      ],
      "metadata": {
        "id": "-JMDDEGwUQu3"
      },
      "execution_count": 4,
      "outputs": []
    },
    {
      "cell_type": "code",
      "source": [
        "idx = 1802\n",
        "print(f'LABEL: {train_labels[idx]}')\n",
        "\n",
        "plt.imshow(train_images[idx])"
      ],
      "metadata": {
        "colab": {
          "base_uri": "https://localhost:8080/",
          "height": 465
        },
        "id": "5ypGkKv4VEJ5",
        "outputId": "3d3e237c-3584-4ff3-daef-d85ca5aeb7c0"
      },
      "execution_count": 7,
      "outputs": [
        {
          "output_type": "stream",
          "name": "stdout",
          "text": [
            "LABEL: 1\n"
          ]
        },
        {
          "output_type": "execute_result",
          "data": {
            "text/plain": [
              "<matplotlib.image.AxesImage at 0x7e8e1d4e2680>"
            ]
          },
          "metadata": {},
          "execution_count": 7
        },
        {
          "output_type": "display_data",
          "data": {
            "text/plain": [
              "<Figure size 640x480 with 1 Axes>"
            ],
            "image/png": "[encoded data removed]"
          },
          "metadata": {}
        }
      ]
    },
    {
      "cell_type": "code",
      "source": [
        "# Normaliser\n",
        "train_images  = train_images / 255.0\n",
        "test_images = test_images / 255.0"
      ],
      "metadata": {
        "id": "zzDUUUV8VLM0"
      },
      "execution_count": 9,
      "outputs": []
    },
    {
      "cell_type": "code",
      "source": [
        "# Construire le model\n",
        "\n",
        "model = tf.keras.models.Sequential([tf.keras.layers.Flatten(),\n",
        "                                    tf.keras.layers.Dense(128, activation=tf.nn.relu),\n",
        "                                    tf.keras.layers.Dense(10, activation=tf.nn.softmax)])"
      ],
      "metadata": {
        "id": "l7T3qKx0VogV"
      },
      "execution_count": 10,
      "outputs": []
    },
    {
      "cell_type": "markdown",
      "source": [
        "## questions\n",
        "- pourquoi la premiere couche est Flatten ?\n",
        "- pourquoi la derniere couche est de dimension 10 ?\n"
      ],
      "metadata": {
        "id": "AI0IIUDIVxPr"
      }
    },
    {
      "cell_type": "code",
      "source": [
        "# build le modele\n",
        "\n",
        "model.compile(optimizer = 'adam',\n",
        "              loss = 'sparse_categorical_crossentropy',\n",
        "              metrics=['accuracy'])\n"
      ],
      "metadata": {
        "id": "7uLe7hqFVvRd"
      },
      "execution_count": 15,
      "outputs": []
    },
    {
      "cell_type": "markdown",
      "source": [
        "## questions\n",
        "- que fait la fonction de cout : sparse_categorical_crossentropy\n",
        "- on a choisi la metrique accuracy, peut on en prendre d'autres ?\n"
      ],
      "metadata": {
        "id": "AbOLrUxybUE_"
      }
    },
    {
      "cell_type": "code",
      "source": [
        "# entrainer le modele\n",
        "model.fit(train_images, train_labels, epochs=5)"
      ],
      "metadata": {
        "colab": {
          "base_uri": "https://localhost:8080/"
        },
        "id": "tV55SytOYS50",
        "outputId": "416d5d87-b7f2-4f88-bfdb-f8faaa451061"
      },
      "execution_count": null,
      "outputs": [
        {
          "output_type": "stream",
          "name": "stdout",
          "text": [
            "Epoch 1/5\n",
            "1875/1875 [==============================] - 10s 5ms/step - loss: 0.4377 - accuracy: 0.8454\n",
            "Epoch 2/5\n",
            "1875/1875 [==============================] - 7s 4ms/step - loss: 0.3668 - accuracy: 0.8676\n",
            "Epoch 3/5\n",
            "1875/1875 [==============================] - 9s 5ms/step - loss: 0.3310 - accuracy: 0.8792\n",
            "Epoch 4/5\n",
            "1875/1875 [==============================] - 7s 4ms/step - loss: 0.3076 - accuracy: 0.8882\n",
            "Epoch 5/5\n",
            "1875/1875 [==============================] - 8s 4ms/step - loss: 0.2913 - accuracy: 0.8916\n"
          ]
        },
        {
          "output_type": "execute_result",
          "data": {
            "text/plain": [
              "<keras.src.callbacks.History at 0x7e8e1c1af790>"
            ]
          },
          "metadata": {},
          "execution_count": 16
        }
      ]
    },
    {
      "cell_type": "code",
      "source": [
        "# evaluer le modele sur la partie test\n",
        "model.evaluate(test_images, test_labels)"
      ],
      "metadata": {
        "id": "otvbq4R7Yc7U"
      },
      "execution_count": null,
      "outputs": []
    },
    {
      "cell_type": "code",
      "source": [
        "model.evaluate(train_images, train_labels)"
      ],
      "metadata": {
        "colab": {
          "base_uri": "https://localhost:8080/"
        },
        "id": "WYJFfyFLe0wU",
        "outputId": "eb09f725-bf7b-4109-907d-33c58b0df1e1"
      },
      "execution_count": 14,
      "outputs": [
        {
          "output_type": "stream",
          "name": "stdout",
          "text": [
            "1875/1875 [==============================] - 6s 3ms/step - loss: 0.4170 - accuracy: 0.8553\n"
          ]
        },
        {
          "output_type": "execute_result",
          "data": {
            "text/plain": [
              "[0.4169580936431885, 0.8552666902542114]"
            ]
          },
          "metadata": {},
          "execution_count": 14
        }
      ]
    },
    {
      "cell_type": "code",
      "source": [
        "# recap du modele\n",
        "\n",
        "model.summary()"
      ],
      "metadata": {
        "colab": {
          "base_uri": "https://localhost:8080/"
        },
        "id": "jGT-3NQ7Yhmi",
        "outputId": "aa8a6107-1e6d-4f64-9bf3-124e5b320a35"
      },
      "execution_count": 46,
      "outputs": [
        {
          "output_type": "stream",
          "name": "stdout",
          "text": [
            "Model: \"sequential_3\"\n",
            "_________________________________________________________________\n",
            " Layer (type)                Output Shape              Param #   \n",
            "=================================================================\n",
            " flatten_3 (Flatten)         (None, 784)               0         \n",
            "                                                                 \n",
            " dense_6 (Dense)             (None, 128)               100480    \n",
            "                                                                 \n",
            " dense_7 (Dense)             (None, 10)                1290      \n",
            "                                                                 \n",
            "=================================================================\n",
            "Total params: 101770 (397.54 KB)\n",
            "Trainable params: 101770 (397.54 KB)\n",
            "Non-trainable params: 0 (0.00 Byte)\n",
            "_________________________________________________________________\n"
          ]
        }
      ]
    },
    {
      "cell_type": "markdown",
      "source": [
        "# questions\n",
        "- sur quoi peut-on jouer pour ameliorer la perf du modele\n",
        "- ce modele est il en overfit ?\n",
        "-"
      ],
      "metadata": {
        "id": "1uDnu6BjcQFk"
      }
    },
    {
      "cell_type": "code",
      "source": [
        "# voici le code commplet du modele\n",
        "\n",
        "model = tf.keras.models.Sequential([tf.keras.layers.Flatten(),\n",
        "                                    tf.keras.layers.Dense(128, activation=tf.nn.relu),\n",
        "                                    tf.keras.layers.Dense(10, activation=tf.nn.softmax)])\n",
        "\n",
        "model.compile(optimizer = tf.keras.optimizers.Adam(),\n",
        "              loss = 'sparse_categorical_crossentropy',\n",
        "              metrics=['accuracy'])\n",
        "\n",
        "model.fit(train_images, train_labels, epochs=5)\n",
        "\n",
        "train_score = model.evaluate(train_images, train_labels)\n",
        "test_score = model.evaluate(test_images, test_labels)\n",
        "\n",
        "print(f\"train : {train_score}, test : {test_score} \")"
      ],
      "metadata": {
        "colab": {
          "base_uri": "https://localhost:8080/"
        },
        "id": "vRqRcU1lbqDw",
        "outputId": "e2632aad-575b-4e95-a54f-f7fdfc185012"
      },
      "execution_count": 19,
      "outputs": [
        {
          "output_type": "stream",
          "name": "stdout",
          "text": [
            "Epoch 1/5\n",
            "1875/1875 [==============================] - 12s 6ms/step - loss: 0.4979 - accuracy: 0.8260\n",
            "Epoch 2/5\n",
            "1875/1875 [==============================] - 8s 4ms/step - loss: 0.3735 - accuracy: 0.8654\n",
            "Epoch 3/5\n",
            "1875/1875 [==============================] - 8s 4ms/step - loss: 0.3378 - accuracy: 0.8766\n",
            "Epoch 4/5\n",
            "1875/1875 [==============================] - 7s 4ms/step - loss: 0.3105 - accuracy: 0.8850\n",
            "Epoch 5/5\n",
            "1875/1875 [==============================] - 8s 4ms/step - loss: 0.2920 - accuracy: 0.8915\n",
            "1875/1875 [==============================] - 4s 2ms/step - loss: 0.3012 - accuracy: 0.8892\n",
            "313/313 [==============================] - 1s 3ms/step - loss: 4.0668 - accuracy: 0.1000\n",
            "train : [0.30117109417915344, 0.8892333507537842], test : [4.066755771636963, 0.10000000149011612] \n"
          ]
        }
      ]
    },
    {
      "cell_type": "markdown",
      "source": [
        "## Exploration\n",
        "\n",
        "- que se passe t il quand on augmente la taille de la couche caché a 512 noeuds au niveau de la performance et du temps d'entrainement ? a 1024 ?\n",
        "- quels sont les optimizers disponibles ?\n",
        "- comment specifier le learning rate de l'optimizer ?\n",
        "- que se passe t il (perf, overfit) quand on rajoute une couche cachée ?\n"
      ],
      "metadata": {
        "id": "nRujQzbmdQxx"
      }
    },
    {
      "cell_type": "code",
      "source": [],
      "metadata": {
        "id": "4f0bPljOc15S"
      },
      "execution_count": null,
      "outputs": []
    }
  ]
}