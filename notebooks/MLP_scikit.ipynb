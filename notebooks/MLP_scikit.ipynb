{
  "nbformat": 4,
  "nbformat_minor": 0,
  "metadata": {
    "colab": {
      "provenance": []
    },
    "kernelspec": {
      "name": "python3",
      "display_name": "Python 3"
    },
    "language_info": {
      "name": "python"
    }
  },
  "cells": [
    {
      "cell_type": "markdown",
      "source": [
        "<table class=\"tfo-notebook-buttons\" align=\"left\">\n",
        "  <td>\n",
        "    <a target=\"_blank\" href=\"https://github.com/SkatAI/skatai_deeplearning/blob/master/notebooks/les_tenseurs.ipynb\"><img src=\"https://www.tensorflow.org/images/colab_logo_32px.png\" />Executer dans Google Colab</a>\n",
        "  </td>\n",
        "  <td>\n",
        "    <a target=\"_blank\" href=\"https://github.com/SkatAI/skatai_deeplearning/blob/master/notebooks/les_tenseurs.ipynb\"><img src=\"https://www.tensorflow.org/images/GitHub-Mark-32px.png\" />sur GitHub</a>\n",
        "  </td>\n",
        "</table>"
      ],
      "metadata": {
        "id": "fvpo9LFVGAni"
      }
    },
    {
      "cell_type": "markdown",
      "source": [
        "# Mulit Layer Perceptron avec scikit-learn\n",
        "\n",
        "Dans ce notebook nous allons entrainer un modele de MLP de scikit-learn sur la base du dataset MNIST\n",
        "\n",
        "- MLPClassifier : https://scikit-learn.org/stable/modules/generated/sklearn.neural_network.MLPClassifier.html\n",
        "- MNIST : http://yann.lecun.com/exdb/mnist/\n",
        "- MNIST sur openml : https://www.openml.org/search?type=data&sort=runs&id=554&status=active\n",
        "\n",
        "L'objectif est d'observer l'influence des paramtres et de l'architecture sur\n",
        "- les performances du modele\n",
        "- l'overfitting\n",
        "\n",
        "Nous allons démarrer avec un model simple puis travailler sur\n",
        "- le learning rate\n",
        "- l'architecture : nombre de couches, nombre de noeuds\n",
        "- les epochs\n",
        "- la régularisation L2 et L1"
      ],
      "metadata": {
        "id": "7BeTYmJyGEHt"
      }
    },
    {
      "cell_type": "code",
      "execution_count": 1,
      "metadata": {
        "id": "EII31aueF7MN"
      },
      "outputs": [],
      "source": [
        "import matplotlib.pyplot as plt\n",
        "\n",
        "from sklearn.datasets import fetch_openml\n",
        "from sklearn.model_selection import train_test_split\n",
        "from sklearn.neural_network import MLPClassifier\n"
      ]
    },
    {
      "cell_type": "code",
      "source": [
        "# charger le jeu de données\n",
        "\n",
        "X, y = fetch_openml(\"mnist_784\", version=1, return_X_y=True, as_frame=False)\n",
        "\n"
      ],
      "metadata": {
        "colab": {
          "base_uri": "https://localhost:8080/"
        },
        "id": "gejopDToG920",
        "outputId": "530751fb-5874-45ad-aa5e-6186bc4d8c71"
      },
      "execution_count": 2,
      "outputs": [
        {
          "output_type": "stream",
          "name": "stderr",
          "text": [
            "/usr/local/lib/python3.10/dist-packages/sklearn/datasets/_openml.py:968: FutureWarning: The default value of `parser` will change from `'liac-arff'` to `'auto'` in 1.4. You can set `parser='auto'` to silence this warning. Therefore, an `ImportError` will be raised from 1.4 if the dataset is dense and pandas is not installed. Note that the pandas parser may return different data types. See the Notes Section in fetch_openml's API doc for details.\n",
            "  warn(\n"
          ]
        }
      ]
    },
    {
      "cell_type": "code",
      "source": [
        "# normalisation\n",
        "X = X / 255.0\n"
      ],
      "metadata": {
        "id": "d1_2_Z3hI5YP"
      },
      "execution_count": 6,
      "outputs": []
    },
    {
      "cell_type": "code",
      "source": [
        "# Split data into train partition and test partition\n",
        "X_train, X_test, y_train, y_test = train_test_split(X, y, random_state=0, test_size=0.7)\n"
      ],
      "metadata": {
        "id": "rnY41JteIVzn"
      },
      "execution_count": 7,
      "outputs": []
    },
    {
      "cell_type": "code",
      "source": [
        "# definir le model avec 1 couche cachée et 40 noeud internes\n",
        "# https://scikit-learn.org/stable/modules/generated/sklearn.neural_network.MLPClassifier.html\n",
        "\n",
        "mlp = MLPClassifier(\n",
        "    hidden_layer_sizes=(40,),\n",
        "    max_iter=200,\n",
        "    alpha=1e-4,\n",
        "    solver=\"sgd\",\n",
        "    verbose=10,\n",
        "    random_state=1,\n",
        "    learning_rate_init=0.2,\n",
        ")\n"
      ],
      "metadata": {
        "id": "cjAJ6sXFIjIF"
      },
      "execution_count": 16,
      "outputs": []
    },
    {
      "cell_type": "code",
      "source": [
        "mlp.fit(X_train, y_train)\n",
        "\n"
      ],
      "metadata": {
        "colab": {
          "base_uri": "https://localhost:8080/",
          "height": 1000
        },
        "id": "-JpqBVJsIl77",
        "outputId": "45c1544d-3a1b-4eea-a79b-432e9125d84e"
      },
      "execution_count": 17,
      "outputs": [
        {
          "output_type": "stream",
          "name": "stdout",
          "text": [
            "Iteration 1, loss = 2.30404856\n",
            "Iteration 2, loss = 2.30196672\n",
            "Iteration 3, loss = 2.29996799\n",
            "Iteration 4, loss = 2.29772689\n",
            "Iteration 5, loss = 2.28915693\n",
            "Iteration 6, loss = 2.27309085\n",
            "Iteration 7, loss = 2.24007857\n",
            "Iteration 8, loss = 2.19456814\n",
            "Iteration 9, loss = 2.17153347\n",
            "Iteration 10, loss = 2.11944044\n",
            "Iteration 11, loss = 2.09552835\n",
            "Iteration 12, loss = 2.06383242\n",
            "Iteration 13, loss = 2.08069500\n",
            "Iteration 14, loss = 2.13079717\n",
            "Iteration 15, loss = 2.11314121\n",
            "Iteration 16, loss = 2.09831407\n",
            "Iteration 17, loss = 2.09527196\n",
            "Iteration 18, loss = 2.06291939\n",
            "Iteration 19, loss = 2.03349537\n",
            "Iteration 20, loss = 2.04984260\n",
            "Iteration 21, loss = 2.00648061\n",
            "Iteration 22, loss = 2.00672049\n",
            "Iteration 23, loss = 1.98874862\n",
            "Iteration 24, loss = 1.98751661\n",
            "Iteration 25, loss = 1.98305433\n",
            "Iteration 26, loss = 1.93024106\n",
            "Iteration 27, loss = 1.95252711\n",
            "Iteration 28, loss = 1.94492352\n",
            "Iteration 29, loss = 1.92441790\n",
            "Iteration 30, loss = 1.89696448\n",
            "Iteration 31, loss = 1.92991637\n",
            "Iteration 32, loss = 1.91271912\n",
            "Iteration 33, loss = 1.90413878\n",
            "Iteration 34, loss = 1.87830592\n",
            "Iteration 35, loss = 1.88019845\n",
            "Iteration 36, loss = 1.87523870\n",
            "Iteration 37, loss = 1.87123924\n",
            "Iteration 38, loss = 1.85187807\n",
            "Iteration 39, loss = 1.87034885\n",
            "Iteration 40, loss = 1.84151678\n",
            "Iteration 41, loss = 1.84579689\n",
            "Iteration 42, loss = 1.82754416\n",
            "Iteration 43, loss = 1.83555217\n",
            "Iteration 44, loss = 1.80645820\n",
            "Iteration 45, loss = 1.84860088\n",
            "Iteration 46, loss = 1.79712742\n",
            "Iteration 47, loss = 1.79938699\n",
            "Iteration 48, loss = 1.82835041\n",
            "Iteration 49, loss = 1.76149858\n",
            "Iteration 50, loss = 1.81565156\n",
            "Iteration 51, loss = 1.80222708\n",
            "Iteration 52, loss = 1.77826739\n",
            "Iteration 53, loss = 1.82221816\n",
            "Iteration 54, loss = 1.76731363\n",
            "Iteration 55, loss = 1.77717125\n",
            "Iteration 56, loss = 1.77967083\n",
            "Iteration 57, loss = 1.79347644\n",
            "Iteration 58, loss = 1.76068235\n",
            "Iteration 59, loss = 1.77125855\n",
            "Iteration 60, loss = 1.73709551\n",
            "Iteration 61, loss = 1.76924169\n",
            "Iteration 62, loss = 1.77395435\n",
            "Iteration 63, loss = 1.73619101\n",
            "Iteration 64, loss = 1.74096394\n",
            "Iteration 65, loss = 1.74075633\n",
            "Iteration 66, loss = 1.74516231\n",
            "Iteration 67, loss = 1.72323833\n",
            "Iteration 68, loss = 1.75648078\n",
            "Iteration 69, loss = 1.71835704\n",
            "Iteration 70, loss = 1.74140962\n",
            "Iteration 71, loss = 1.71460018\n",
            "Iteration 72, loss = 1.73458246\n",
            "Iteration 73, loss = 1.72458539\n",
            "Iteration 74, loss = 1.73016773\n",
            "Iteration 75, loss = 1.73740734\n",
            "Iteration 76, loss = 1.68578333\n",
            "Iteration 77, loss = 1.71129825\n",
            "Iteration 78, loss = 1.70622254\n",
            "Iteration 79, loss = 1.69483404\n",
            "Iteration 80, loss = 1.74911259\n",
            "Iteration 81, loss = 1.69281722\n",
            "Iteration 82, loss = 1.72687920\n",
            "Iteration 83, loss = 1.68120489\n",
            "Iteration 84, loss = 1.70517805\n",
            "Iteration 85, loss = 1.69284348\n",
            "Iteration 86, loss = 1.71686481\n",
            "Iteration 87, loss = 1.67778546\n",
            "Iteration 88, loss = 1.70881609\n",
            "Iteration 89, loss = 1.68993368\n",
            "Iteration 90, loss = 1.68166464\n",
            "Iteration 91, loss = 1.68658183\n",
            "Iteration 92, loss = 1.67096711\n",
            "Iteration 93, loss = 1.68398603\n",
            "Iteration 94, loss = 1.71238780\n",
            "Iteration 95, loss = 1.69793395\n",
            "Iteration 96, loss = 1.67977130\n",
            "Iteration 97, loss = 1.68034982\n",
            "Iteration 98, loss = 1.66475991\n",
            "Iteration 99, loss = 1.69793270\n",
            "Iteration 100, loss = 1.68046426\n",
            "Iteration 101, loss = 1.67427896\n",
            "Iteration 102, loss = 1.66155972\n",
            "Iteration 103, loss = 1.68543610\n",
            "Iteration 104, loss = 1.67713584\n",
            "Iteration 105, loss = 1.66390159\n",
            "Iteration 106, loss = 1.68548418\n",
            "Iteration 107, loss = 1.67811345\n",
            "Iteration 108, loss = 1.65375409\n",
            "Iteration 109, loss = 1.68016503\n",
            "Iteration 110, loss = 1.65222208\n",
            "Iteration 111, loss = 1.67832523\n",
            "Iteration 112, loss = 1.65020697\n",
            "Iteration 113, loss = 1.66726268\n",
            "Iteration 114, loss = 1.67506683\n",
            "Iteration 115, loss = 1.64963314\n",
            "Iteration 116, loss = 1.67081471\n",
            "Iteration 117, loss = 1.66066311\n",
            "Iteration 118, loss = 1.67412931\n",
            "Iteration 119, loss = 1.63410961\n",
            "Iteration 120, loss = 1.65673634\n",
            "Iteration 121, loss = 1.67498557\n",
            "Iteration 122, loss = 1.67604836\n",
            "Iteration 123, loss = 1.62784138\n",
            "Iteration 124, loss = 1.63597957\n",
            "Iteration 125, loss = 1.68221471\n",
            "Iteration 126, loss = 1.63220157\n",
            "Iteration 127, loss = 1.65361378\n",
            "Iteration 128, loss = 1.64181855\n",
            "Iteration 129, loss = 1.65721129\n",
            "Iteration 130, loss = 1.65715279\n",
            "Iteration 131, loss = 1.67246741\n",
            "Iteration 132, loss = 1.63343522\n",
            "Iteration 133, loss = 1.65562097\n",
            "Iteration 134, loss = 1.65519586\n",
            "Training loss did not improve more than tol=0.000100 for 10 consecutive epochs. Stopping.\n"
          ]
        },
        {
          "output_type": "execute_result",
          "data": {
            "text/plain": [
              "MLPClassifier(hidden_layer_sizes=(40,), learning_rate_init=0.2, random_state=1,\n",
              "              solver='sgd', verbose=10)"
            ],
            "text/html": [
              "<style>#sk-container-id-3 {color: black;background-color: white;}#sk-container-id-3 pre{padding: 0;}#sk-container-id-3 div.sk-toggleable {background-color: white;}#sk-container-id-3 label.sk-toggleable__label {cursor: pointer;display: block;width: 100%;margin-bottom: 0;padding: 0.3em;box-sizing: border-box;text-align: center;}#sk-container-id-3 label.sk-toggleable__label-arrow:before {content: \"▸\";float: left;margin-right: 0.25em;color: #696969;}#sk-container-id-3 label.sk-toggleable__label-arrow:hover:before {color: black;}#sk-container-id-3 div.sk-estimator:hover label.sk-toggleable__label-arrow:before {color: black;}#sk-container-id-3 div.sk-toggleable__content {max-height: 0;max-width: 0;overflow: hidden;text-align: left;background-color: #f0f8ff;}#sk-container-id-3 div.sk-toggleable__content pre {margin: 0.2em;color: black;border-radius: 0.25em;background-color: #f0f8ff;}#sk-container-id-3 input.sk-toggleable__control:checked~div.sk-toggleable__content {max-height: 200px;max-width: 100%;overflow: auto;}#sk-container-id-3 input.sk-toggleable__control:checked~label.sk-toggleable__label-arrow:before {content: \"▾\";}#sk-container-id-3 div.sk-estimator input.sk-toggleable__control:checked~label.sk-toggleable__label {background-color: #d4ebff;}#sk-container-id-3 div.sk-label input.sk-toggleable__control:checked~label.sk-toggleable__label {background-color: #d4ebff;}#sk-container-id-3 input.sk-hidden--visually {border: 0;clip: rect(1px 1px 1px 1px);clip: rect(1px, 1px, 1px, 1px);height: 1px;margin: -1px;overflow: hidden;padding: 0;position: absolute;width: 1px;}#sk-container-id-3 div.sk-estimator {font-family: monospace;background-color: #f0f8ff;border: 1px dotted black;border-radius: 0.25em;box-sizing: border-box;margin-bottom: 0.5em;}#sk-container-id-3 div.sk-estimator:hover {background-color: #d4ebff;}#sk-container-id-3 div.sk-parallel-item::after {content: \"\";width: 100%;border-bottom: 1px solid gray;flex-grow: 1;}#sk-container-id-3 div.sk-label:hover label.sk-toggleable__label {background-color: #d4ebff;}#sk-container-id-3 div.sk-serial::before {content: \"\";position: absolute;border-left: 1px solid gray;box-sizing: border-box;top: 0;bottom: 0;left: 50%;z-index: 0;}#sk-container-id-3 div.sk-serial {display: flex;flex-direction: column;align-items: center;background-color: white;padding-right: 0.2em;padding-left: 0.2em;position: relative;}#sk-container-id-3 div.sk-item {position: relative;z-index: 1;}#sk-container-id-3 div.sk-parallel {display: flex;align-items: stretch;justify-content: center;background-color: white;position: relative;}#sk-container-id-3 div.sk-item::before, #sk-container-id-3 div.sk-parallel-item::before {content: \"\";position: absolute;border-left: 1px solid gray;box-sizing: border-box;top: 0;bottom: 0;left: 50%;z-index: -1;}#sk-container-id-3 div.sk-parallel-item {display: flex;flex-direction: column;z-index: 1;position: relative;background-color: white;}#sk-container-id-3 div.sk-parallel-item:first-child::after {align-self: flex-end;width: 50%;}#sk-container-id-3 div.sk-parallel-item:last-child::after {align-self: flex-start;width: 50%;}#sk-container-id-3 div.sk-parallel-item:only-child::after {width: 0;}#sk-container-id-3 div.sk-dashed-wrapped {border: 1px dashed gray;margin: 0 0.4em 0.5em 0.4em;box-sizing: border-box;padding-bottom: 0.4em;background-color: white;}#sk-container-id-3 div.sk-label label {font-family: monospace;font-weight: bold;display: inline-block;line-height: 1.2em;}#sk-container-id-3 div.sk-label-container {text-align: center;}#sk-container-id-3 div.sk-container {/* jupyter's `normalize.less` sets `[hidden] { display: none; }` but bootstrap.min.css set `[hidden] { display: none !important; }` so we also need the `!important` here to be able to override the default hidden behavior on the sphinx rendered scikit-learn.org. See: https://github.com/scikit-learn/scikit-learn/issues/21755 */display: inline-block !important;position: relative;}#sk-container-id-3 div.sk-text-repr-fallback {display: none;}</style><div id=\"sk-container-id-3\" class=\"sk-top-container\"><div class=\"sk-text-repr-fallback\"><pre>MLPClassifier(hidden_layer_sizes=(40,), learning_rate_init=0.2, random_state=1,\n",
              "              solver=&#x27;sgd&#x27;, verbose=10)</pre><b>In a Jupyter environment, please rerun this cell to show the HTML representation or trust the notebook. <br />On GitHub, the HTML representation is unable to render, please try loading this page with nbviewer.org.</b></div><div class=\"sk-container\" hidden><div class=\"sk-item\"><div class=\"sk-estimator sk-toggleable\"><input class=\"sk-toggleable__control sk-hidden--visually\" id=\"sk-estimator-id-3\" type=\"checkbox\" checked><label for=\"sk-estimator-id-3\" class=\"sk-toggleable__label sk-toggleable__label-arrow\">MLPClassifier</label><div class=\"sk-toggleable__content\"><pre>MLPClassifier(hidden_layer_sizes=(40,), learning_rate_init=0.2, random_state=1,\n",
              "              solver=&#x27;sgd&#x27;, verbose=10)</pre></div></div></div></div></div>"
            ]
          },
          "metadata": {},
          "execution_count": 17
        }
      ]
    },
    {
      "cell_type": "code",
      "source": [
        "print(\"Training set score: %f\" % mlp.score(X_train, y_train))\n",
        "print(\"Test set score: %f\" % mlp.score(X_test, y_test))\n"
      ],
      "metadata": {
        "colab": {
          "base_uri": "https://localhost:8080/"
        },
        "id": "Q4AykUMMJCd3",
        "outputId": "5a63c8db-b119-4b3c-b09a-f0610709d63e"
      },
      "execution_count": 18,
      "outputs": [
        {
          "output_type": "stream",
          "name": "stdout",
          "text": [
            "Training set score: 0.363619\n",
            "Test set score: 0.361490\n"
          ]
        }
      ]
    },
    {
      "cell_type": "code",
      "source": [
        "plt.plot(mlp.loss_curve_)\n",
        "plt.grid()\n"
      ],
      "metadata": {
        "colab": {
          "base_uri": "https://localhost:8080/",
          "height": 430
        },
        "id": "_ipkNta7Jo_z",
        "outputId": "eead4e69-a4e9-4e13-dcda-46023e15fd8d"
      },
      "execution_count": 19,
      "outputs": [
        {
          "output_type": "display_data",
          "data": {
            "text/plain": [
              "<Figure size 640x480 with 1 Axes>"
            ],
            "image/png": "[encoded data removed]"
          },
          "metadata": {}
        }
      ]
    },
    {
      "cell_type": "markdown",
      "source": [
        "# A vous\n",
        "\n",
        "Qu'observe t on quand\n",
        "- on augmente le nombre d'epoch (max_iter)\n",
        "- on augmente la taille de la couche cachée\n",
        "- on rajoute une autre couche de meme taille\n",
        "- on ne garde qu'une couche mais de taille plus réduite\n",
        "\n",
        "Creer de l'overfit avec un modele trop complexe :\n",
        "\n",
        "- augmenter la taille et le nombre de couches\n",
        "- reduire le learning rate\n",
        "- mettre alpha à 0\n",
        "\n",
        "Puis une fois que l'overfit apparaît essayer de le réduire en jouant avec\n",
        "- le alpha (L2)\n",
        "- le batch size"
      ],
      "metadata": {
        "id": "KHFY7GltKCoZ"
      }
    },
    {
      "cell_type": "code",
      "source": [
        "# alpha = 0.8\n",
        "mlp = MLPClassifier(\n",
        "    hidden_layer_sizes=(40,),\n",
        "    max_iter=100,\n",
        "    alpha=1e-4,\n",
        "    solver=\"sgd\",\n",
        "    verbose=10,\n",
        "    random_state=1,\n",
        "    learning_rate_init=0.01,\n",
        ")\n",
        "mlp.fit(X_train, y_train)\n",
        "print(\"Training set score: %f\" % mlp.score(X_train, y_train))\n",
        "print(\"Test set score: %f\" % mlp.score(X_test, y_test))\n",
        "plt.plot(mlp.loss_curve_)\n",
        "plt.grid()\n"
      ],
      "metadata": {
        "colab": {
          "base_uri": "https://localhost:8080/"
        },
        "id": "CbbsvqLEMRCf",
        "outputId": "6ae7aef3-959d-4981-d1b0-c46606b27dc7"
      },
      "execution_count": null,
      "outputs": [
        {
          "output_type": "stream",
          "name": "stdout",
          "text": [
            "Iteration 1, loss = 2.30780210\n",
            "Iteration 2, loss = 2.30162848\n",
            "Iteration 3, loss = 2.30104210\n",
            "Iteration 4, loss = 2.30085380\n",
            "Iteration 5, loss = 2.30069354\n",
            "Iteration 6, loss = 2.30055337\n",
            "Iteration 7, loss = 2.30050565\n",
            "Iteration 8, loss = 2.30038896\n",
            "Iteration 9, loss = 2.30018830\n",
            "Iteration 10, loss = 2.30005133\n",
            "Iteration 11, loss = 2.29988377\n",
            "Iteration 12, loss = 2.29972418\n",
            "Iteration 13, loss = 2.29962498\n",
            "Iteration 14, loss = 2.29944037\n",
            "Iteration 15, loss = 2.29926284\n",
            "Iteration 16, loss = 2.29912020\n",
            "Iteration 17, loss = 2.29899957\n",
            "Iteration 18, loss = 2.29880165\n",
            "Iteration 19, loss = 2.29863205\n",
            "Iteration 20, loss = 2.29847534\n",
            "Iteration 21, loss = 2.29828760\n",
            "Iteration 22, loss = 2.29812951\n",
            "Iteration 23, loss = 2.29789228\n",
            "Iteration 24, loss = 2.29771293\n",
            "Iteration 25, loss = 2.29753578\n",
            "Iteration 26, loss = 2.29734675\n",
            "Iteration 27, loss = 2.29701234\n",
            "Iteration 28, loss = 2.29688205\n",
            "Iteration 29, loss = 2.29662028\n",
            "Iteration 30, loss = 2.29648171\n",
            "Iteration 31, loss = 2.29625994\n",
            "Iteration 32, loss = 2.29591763\n",
            "Iteration 33, loss = 2.29570216\n",
            "Iteration 34, loss = 2.29540699\n",
            "Iteration 35, loss = 2.29500889\n",
            "Iteration 36, loss = 2.29482501\n",
            "Iteration 37, loss = 2.29448385\n",
            "Iteration 38, loss = 2.29417353\n",
            "Iteration 39, loss = 2.29388714\n",
            "Iteration 40, loss = 2.29350830\n",
            "Iteration 41, loss = 2.29335066\n",
            "Iteration 42, loss = 2.29289434\n",
            "Iteration 43, loss = 2.29253038\n",
            "Iteration 44, loss = 2.29220235\n",
            "Iteration 45, loss = 2.29179127\n",
            "Iteration 46, loss = 2.29145646\n",
            "Iteration 47, loss = 2.29100737\n",
            "Iteration 48, loss = 2.29050440\n",
            "Iteration 49, loss = 2.29009005\n",
            "Iteration 50, loss = 2.28951627\n",
            "Iteration 51, loss = 2.28907011\n",
            "Iteration 52, loss = 2.28863378\n",
            "Iteration 53, loss = 2.28807577\n",
            "Iteration 54, loss = 2.28746426\n",
            "Iteration 55, loss = 2.28698770\n",
            "Iteration 56, loss = 2.28633189\n",
            "Iteration 57, loss = 2.28581755\n",
            "Iteration 58, loss = 2.28502761\n",
            "Iteration 59, loss = 2.28460229\n",
            "Iteration 60, loss = 2.28374530\n",
            "Iteration 61, loss = 2.28293681\n",
            "Iteration 62, loss = 2.28234795\n",
            "Iteration 63, loss = 2.28161963\n",
            "Iteration 64, loss = 2.28059699\n",
            "Iteration 65, loss = 2.28002804\n",
            "Iteration 66, loss = 2.27910161\n",
            "Iteration 67, loss = 2.27806105\n",
            "Iteration 68, loss = 2.27718135\n",
            "Iteration 69, loss = 2.27625949\n",
            "Iteration 70, loss = 2.27517727\n",
            "Iteration 71, loss = 2.27410849\n",
            "Iteration 72, loss = 2.27298646\n",
            "Iteration 73, loss = 2.27203760\n",
            "Iteration 74, loss = 2.27073087\n",
            "Iteration 75, loss = 2.26954968\n",
            "Iteration 76, loss = 2.26826586\n",
            "Iteration 77, loss = 2.26680892\n",
            "Iteration 78, loss = 2.26535099\n",
            "Iteration 79, loss = 2.26405246\n",
            "Iteration 80, loss = 2.26265560\n",
            "Iteration 81, loss = 2.26096104\n",
            "Iteration 82, loss = 2.25934270\n",
            "Iteration 83, loss = 2.25769444\n",
            "Iteration 84, loss = 2.25612226\n",
            "Iteration 85, loss = 2.25413397\n",
            "Iteration 86, loss = 2.25220257\n",
            "Iteration 87, loss = 2.25045327\n",
            "Iteration 88, loss = 2.24827122\n",
            "Iteration 89, loss = 2.24629359\n",
            "Iteration 90, loss = 2.24396809\n",
            "Iteration 91, loss = 2.24180114\n",
            "Iteration 92, loss = 2.23955543\n",
            "Iteration 93, loss = 2.23706212\n",
            "Iteration 94, loss = 2.23468854\n",
            "Iteration 95, loss = 2.23190613\n",
            "Iteration 96, loss = 2.22958833\n",
            "Iteration 97, loss = 2.22651565\n",
            "Iteration 98, loss = 2.22346123\n"
          ]
        }
      ]
    },
    {
      "cell_type": "markdown",
      "source": [
        "# Voir les coefficients de la couche interne"
      ],
      "metadata": {
        "id": "OyxW0JvdIt6-"
      }
    },
    {
      "cell_type": "code",
      "source": [
        "fig, axes = plt.subplots(4, 4)\n",
        "# use global min / max to ensure all weights are shown on the same scale\n",
        "vmin, vmax = mlp.coefs_[0].min(), mlp.coefs_[0].max()\n",
        "for coef, ax in zip(mlp.coefs_[0].T, axes.ravel()):\n",
        "    ax.matshow(coef.reshape(28, 28), cmap=plt.cm.gray, vmin=0.5 * vmin, vmax=0.5 * vmax)\n",
        "    ax.set_xticks(())\n",
        "    ax.set_yticks(())\n",
        "\n",
        "plt.show()"
      ],
      "metadata": {
        "id": "BS6_yOp4InrU"
      },
      "execution_count": null,
      "outputs": []
    }
  ]
}