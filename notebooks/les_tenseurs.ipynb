{
  "nbformat": 4,
  "nbformat_minor": 0,
  "metadata": {
    "colab": {
      "provenance": []
    },
    "kernelspec": {
      "name": "python3",
      "display_name": "Python 3"
    },
    "language_info": {
      "name": "python"
    }
  },
  "cells": [
    {
      "cell_type": "markdown",
      "source": [
        "# Deep learning par la pratique - manipulation des tenseurs\n",
        "\n",
        "Dans ce notebook vous allez vous familiariser avec la manipulation des tenseurs avec tensorflow\n",
        "\n"
      ],
      "metadata": {
        "id": "Uvdn4tIsZsky"
      }
    },
    {
      "cell_type": "code",
      "source": [
        "import tensorflow as tf\n",
        "import numpy as np\n",
        "print(tf.__version__)"
      ],
      "metadata": {
        "id": "--ZkkBLvaFLw"
      },
      "execution_count": null,
      "outputs": []
    },
    {
      "cell_type": "markdown",
      "source": [
        "## operations de base\n",
        "\n",
        "### Création des tenseurs\n",
        "\n",
        "On crée des tenseurs de rang 0 à 5 à partir d'objets numpy"
      ],
      "metadata": {
        "id": "Tq00NWgAZ63L"
      }
    },
    {
      "cell_type": "code",
      "source": [
        "# Rank 0 Tensor (Vector)\n",
        "tensor_rank_0 = tf.constant(22)\n",
        "print(\"Rank 0 Tensor:\", tensor_rank_0)"
      ],
      "metadata": {
        "id": "rFeHrz-ga2TS"
      },
      "execution_count": null,
      "outputs": []
    },
    {
      "cell_type": "code",
      "execution_count": null,
      "metadata": {
        "id": "UV3nh_1JZrqG"
      },
      "outputs": [],
      "source": [
        "# Rank 1 Tensor (Vector)\n",
        "tensor_rank_1 = tf.constant([1, 2, 3, 4, 5])\n",
        "print(\"Rank 1 Tensor:\", tensor_rank_1)"
      ]
    },
    {
      "cell_type": "code",
      "source": [
        "# Rank 2 Tensor (Matrix)\n",
        "tensor_rank_2 = tf.constant([[1, 2, 3], [4, 5, 6]])\n",
        "print(\"Rank 2 Tensor:\", tensor_rank_2)\n"
      ],
      "metadata": {
        "id": "F9XncxQIa9Ad"
      },
      "execution_count": null,
      "outputs": []
    },
    {
      "cell_type": "markdown",
      "source": [
        "#### A vous\n",
        "\n",
        "Chargez un fichier csv (Iris) dans un tenseur\n",
        "en utilisant la fonction\n",
        "`tf.convert_to_tensor()`\n",
        "\n",
        "- qu'est ce qui se passe et pourquoi ?\n"
      ],
      "metadata": {
        "id": "TT0glw1Uc93m"
      }
    },
    {
      "cell_type": "code",
      "source": [
        "# chargez un fichier csv (Iris) dans un tenseur\n",
        "# en utilisant la fonction\n",
        "# tf.convert_to_tensor(data)\n",
        "\n",
        "# load iris.csv\n",
        "import pandas as pd\n",
        "\n",
        "url = \"https://raw.githubusercontent.com/SkatAI/skatai_deeplearning/master/data/iris_dataset.csv\"\n",
        "data = pd.read_csv(url)\n",
        "print(data.head())\n",
        "# votre code\n",
        "\n"
      ],
      "metadata": {
        "id": "iaVU0v-DbItB"
      },
      "execution_count": null,
      "outputs": []
    },
    {
      "cell_type": "markdown",
      "source": [],
      "metadata": {
        "id": "3WphJDC1dwhD"
      }
    },
    {
      "cell_type": "code",
      "source": [
        "# charger une image\n",
        "import requests\n",
        "\n",
        "# lire l'image\n",
        "image_url = 'https://github.com/SkatAI/skatai_deeplearning/blob/master/img/etretat.jpg?raw=true'\n",
        "response = requests.get(image_url)\n",
        "image_data = response.content\n"
      ],
      "metadata": {
        "id": "GkAMWWB4b_6D"
      },
      "execution_count": null,
      "outputs": []
    },
    {
      "cell_type": "code",
      "source": [
        "from PIL import Image\n",
        "from io import BytesIO\n",
        "import matplotlib.pyplot as plt\n",
        "\n",
        "\n",
        "image = Image.open(BytesIO(image_data))\n",
        "plt.imshow(image)\n",
        "plt.axis('off')  # Hide axes\n",
        "plt.show()"
      ],
      "metadata": {
        "id": "V5YiJA9dn8Hm"
      },
      "execution_count": null,
      "outputs": []
    },
    {
      "cell_type": "code",
      "source": [
        "# charger dans un tenseur\n",
        "\n",
        "# 1) garder les couleurs\n",
        "image = tf.image.decode_jpeg(image_data, channels=3)\n",
        "# Print the shape of the tensor\n",
        "print(\"Tensor shape:\", image.shape)\n"
      ],
      "metadata": {
        "id": "zDx7Z0hng-Om"
      },
      "execution_count": null,
      "outputs": []
    },
    {
      "cell_type": "code",
      "source": [
        "# forcer en noir et blanc\n",
        "# quelles est la shape du tenseur\n",
        "\n",
        "# 1) garder les couleurs\n",
        "image = tf.image.decode_jpeg(image_data, channels=1)\n",
        "# Print the shape of the tensor\n",
        "print(\"Tensor shape:\", image.shape)\n",
        "\n"
      ],
      "metadata": {
        "id": "aGaQmcr2nyGp"
      },
      "execution_count": null,
      "outputs": []
    },
    {
      "cell_type": "code",
      "source": [
        "# Display the image using matplotlib\n",
        "plt.imshow(image.numpy().squeeze(), cmap='gray')\n",
        "plt.axis('off')  # Hide axes\n",
        "plt.show()"
      ],
      "metadata": {
        "id": "BgaK2e2cnXUm"
      },
      "execution_count": null,
      "outputs": []
    },
    {
      "cell_type": "markdown",
      "source": [
        "Que fait squeeze ?\n"
      ],
      "metadata": {
        "id": "mBqyvCETpaPD"
      }
    },
    {
      "cell_type": "code",
      "source": [
        "# que fait squeeze ?\n"
      ],
      "metadata": {
        "id": "slXL1yaDpNL4"
      },
      "execution_count": null,
      "outputs": []
    },
    {
      "cell_type": "markdown",
      "source": [
        "les valeurs dans `image` sont des int entre 0 et 255\n",
        "\n",
        "pourr la manipuler on va les normaliser avec\n",
        "\n",
        "`image = tf.cast(image, tf.float32) / 255.0`\n"
      ],
      "metadata": {
        "id": "yRCyWf7NthGm"
      }
    },
    {
      "cell_type": "code",
      "source": [
        "image = tf.cast(image, tf.float32) / 255.0\n"
      ],
      "metadata": {
        "id": "h3BYNQawto50"
      },
      "execution_count": null,
      "outputs": []
    },
    {
      "cell_type": "markdown",
      "source": [
        "# Manipuler des images\n",
        "\n",
        "## pixelisation / thresholding\n",
        "\n",
        "avec la fonction `tf.where` on peut mettre a zero les pixels au dessus d'un seuil\n",
        "\n",
        "`image_seuil = tf.where(image > threshold, 1.0, 0.0)`\n"
      ],
      "metadata": {
        "id": "sZmmgqrJvOCW"
      }
    },
    {
      "cell_type": "code",
      "source": [
        "threshold = 0.5\n",
        "image_seuil = tf.where(image > threshold, 1.0, 0.0)\n"
      ],
      "metadata": {
        "id": "bcxHMwOquHWQ"
      },
      "execution_count": null,
      "outputs": []
    },
    {
      "cell_type": "code",
      "source": [
        "# Pour afficher l'image il faut la reconvertir en Int avec des valeurs de 0 a 255\n",
        "image_seuil = tf.cast(image_seuil * 255, tf.uint8)"
      ],
      "metadata": {
        "id": "VtNXbOdUv2uh"
      },
      "execution_count": null,
      "outputs": []
    },
    {
      "cell_type": "code",
      "source": [
        "plt.imshow(image_seuil, cmap='gray')\n"
      ],
      "metadata": {
        "id": "SF5lFXz5v8kp"
      },
      "execution_count": null,
      "outputs": []
    },
    {
      "cell_type": "markdown",
      "source": [
        "## Melanger 2 images\n",
        "\n",
        "Il faut d'abord qu'elles soient à la même dimension\n",
        "\n",
        "on utilise la fonction `tf.reshape`\n",
        "\n"
      ],
      "metadata": {
        "id": "mqO2ac7qwMQy"
      }
    },
    {
      "cell_type": "code",
      "source": [
        "# loader les 2 images\n",
        "etretat = requests.get('https://github.com/SkatAI/skatai_deeplearning/blob/master/img/etretat.jpg?raw=true').content\n",
        "\n",
        "cerisier = requests.get('https://github.com/SkatAI/skatai_deeplearning/blob/master/img/cerisier.jpg?raw=true').content"
      ],
      "metadata": {
        "id": "95KoX_e7wTvN"
      },
      "execution_count": null,
      "outputs": []
    },
    {
      "cell_type": "code",
      "source": [
        "plt.imshow(Image.open(BytesIO(etretat)))\n"
      ],
      "metadata": {
        "id": "XjDt2C47wmeI"
      },
      "execution_count": null,
      "outputs": []
    },
    {
      "cell_type": "code",
      "source": [
        "plt.imshow(Image.open(BytesIO(cerisier)))"
      ],
      "metadata": {
        "id": "O_DBgFTOwxtP"
      },
      "execution_count": null,
      "outputs": []
    },
    {
      "cell_type": "code",
      "source": [
        "# loader les 2 images dans un tenseur\n",
        "tf_etretat = tf.image.decode_jpeg(etretat, channels=1)\n",
        "print(tf_etretat.shape)\n",
        "tf_cerisier = tf.image.decode_jpeg(cerisier, channels=1)\n",
        "print(tf_cerisier.shape)"
      ],
      "metadata": {
        "id": "XlJEQPZCw0oJ"
      },
      "execution_count": null,
      "outputs": []
    },
    {
      "cell_type": "code",
      "source": [
        "tf.shape(tf_etretat)[:2]"
      ],
      "metadata": {
        "id": "eU1K-_r-yEem"
      },
      "execution_count": null,
      "outputs": []
    },
    {
      "cell_type": "code",
      "source": [
        "# mettre aux memes dimension\n",
        "target_shape = tf.shape(tf_etretat)[:2]\n",
        "tf_cerisier_resized = tf.image.resize(tf_cerisier,\n",
        "            target_shape,\n",
        "            method=tf.image.ResizeMethod.BILINEAR\n",
        ")\n"
      ],
      "metadata": {
        "id": "NvjnPkdtxMNb"
      },
      "execution_count": null,
      "outputs": []
    },
    {
      "cell_type": "code",
      "source": [
        "print(tf.shape(tf_cerisier_resized))"
      ],
      "metadata": {
        "id": "otnocsFtyW8S"
      },
      "execution_count": null,
      "outputs": []
    },
    {
      "cell_type": "code",
      "source": [
        "plt.imshow(tf_cerisier_resized.numpy().squeeze(), cmap='gray')\n"
      ],
      "metadata": {
        "id": "CURCle8YyYrG"
      },
      "execution_count": null,
      "outputs": []
    },
    {
      "cell_type": "markdown",
      "source": [
        "## fusionner les 2 images !"
      ],
      "metadata": {
        "id": "mPLF6MhLyvfF"
      }
    },
    {
      "cell_type": "code",
      "source": [
        "# cast to float\n",
        "tf_etretat = tf.cast(tf_etretat, tf.float32)\n",
        "tf_cerisier_resized = tf.cast(tf_cerisier_resized, tf.float32)\n"
      ],
      "metadata": {
        "id": "QmO0eji6ypzR"
      },
      "execution_count": null,
      "outputs": []
    },
    {
      "cell_type": "code",
      "source": [
        "blend = tf.clip_by_value(tf_etretat * 0.5 + tf_cerisier_resized * 0.5, 0, 255)"
      ],
      "metadata": {
        "id": "Xv3jeJIXy7l9"
      },
      "execution_count": null,
      "outputs": []
    },
    {
      "cell_type": "markdown",
      "source": [
        "Que fait la fonction `clip_by_value()` ?"
      ],
      "metadata": {
        "id": "ZwEAwgM8aYje"
      }
    },
    {
      "cell_type": "code",
      "source": [
        "# cast back to int\n",
        "blend = tf.cast(blend, tf.uint8)"
      ],
      "metadata": {
        "id": "3yIayMqgzBal"
      },
      "execution_count": null,
      "outputs": []
    },
    {
      "cell_type": "code",
      "source": [
        "# afficher\n",
        "plt.imshow(blend.numpy().squeeze(), cmap = 'gray')\n"
      ],
      "metadata": {
        "id": "_p6Yvvlk0HJ3"
      },
      "execution_count": null,
      "outputs": []
    },
    {
      "cell_type": "markdown",
      "source": [
        "# filtrage par\n",
        "\n",
        "on multiplie l'image par un filtre tenseur\n",
        "\n",
        "ici on filtre le rouge en mettant a > 1 et en réduisant  le bleu et le vert"
      ],
      "metadata": {
        "id": "srI3wVy-1Ck1"
      }
    },
    {
      "cell_type": "code",
      "source": [
        "etretat = requests.get('https://github.com/SkatAI/skatai_deeplearning/blob/master/img/etretat.jpg?raw=true')\n",
        "tf_etretat = tf.image.decode_jpeg(etretat.content, channels=3)\n",
        "print(tf_etretat.shape)\n",
        "tf_etretat = tf.cast(tf_etretat, tf.float32)\n",
        "tf_etretat\n"
      ],
      "metadata": {
        "id": "4P3MY9hI2Kmm"
      },
      "execution_count": null,
      "outputs": []
    },
    {
      "cell_type": "code",
      "source": [
        "red_filter = tf.constant([1.5, 0.5, 0.5], shape=[1, 1, 3])\n",
        "etretat_rouge = tf.clip_by_value(tf_etretat * red_filter, 0, 255)\n",
        "etretat_rouge_uint8 = tf.cast(etretat_rouge, tf.uint8)"
      ],
      "metadata": {
        "id": "oBX2uRni0UzT"
      },
      "execution_count": null,
      "outputs": []
    },
    {
      "cell_type": "code",
      "source": [
        "\n",
        "plt.imshow(etretat_rouge_uint8.numpy().squeeze())\n"
      ],
      "metadata": {
        "id": "p2mPAjmR1rql"
      },
      "execution_count": null,
      "outputs": []
    },
    {
      "cell_type": "code",
      "source": [],
      "metadata": {
        "id": "jcU5Q4GI1sHj"
      },
      "execution_count": null,
      "outputs": []
    }
  ]
}