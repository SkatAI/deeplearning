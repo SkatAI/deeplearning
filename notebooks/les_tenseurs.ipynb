{
  "nbformat": 4,
  "nbformat_minor": 0,
  "metadata": {
    "colab": {
      "provenance": []
    },
    "kernelspec": {
      "name": "python3",
      "display_name": "Python 3"
    },
    "language_info": {
      "name": "python"
    }
  },
  "cells": [
    {
      "cell_type": "markdown",
      "source": [
        "<table class=\"tfo-notebook-buttons\" align=\"left\">\n",
        "  <td>\n",
        "    <a target=\"_blank\" href=\"https://github.com/SkatAI/skatai_deeplearning/blob/master/notebooks/les_tenseurs.ipynb\"><img src=\"https://www.tensorflow.org/images/colab_logo_32px.png\" />Executer dans Google Colab</a>\n",
        "  </td>\n",
        "  <td>\n",
        "    <a target=\"_blank\" href=\"https://github.com/SkatAI/skatai_deeplearning/blob/master/notebooks/les_tenseurs.ipynb\"><img src=\"https://www.tensorflow.org/images/GitHub-Mark-32px.png\" />sur GitHub</a>\n",
        "  </td>\n",
        "</table>"
      ],
      "metadata": {
        "id": "1G2b2u3p2nHV"
      }
    },
    {
      "cell_type": "markdown",
      "source": [
        "# Deep learning par la pratique - manipulation des tenseurs\n",
        "\n",
        "Dans ce notebook vous allez vous familiariser avec la manipulation des tenseurs avec tensorflow.\n",
        "\n",
        "- quelques opérations sur les tenseurs\n",
        "- comment charger une dataframe\n",
        "- comment charger des images et les transformer\n",
        "\n",
        "\n"
      ],
      "metadata": {
        "id": "Uvdn4tIsZsky"
      }
    },
    {
      "cell_type": "code",
      "source": [
        "import tensorflow as tf\n",
        "import numpy as np\n",
        "print(tf.__version__)"
      ],
      "metadata": {
        "colab": {
          "base_uri": "https://localhost:8080/"
        },
        "id": "--ZkkBLvaFLw",
        "outputId": "6850743d-d492-44b1-8b80-5e5383d0f2bc"
      },
      "execution_count": null,
      "outputs": [
        {
          "output_type": "stream",
          "name": "stdout",
          "text": [
            "2.15.0\n"
          ]
        }
      ]
    },
    {
      "cell_type": "markdown",
      "source": [
        "## operations de base\n",
        "\n",
        "### Création des tenseurs\n",
        "\n",
        "On crée des tenseurs de rang 0 à 5 à partir d'objets numpy"
      ],
      "metadata": {
        "id": "Tq00NWgAZ63L"
      }
    },
    {
      "cell_type": "code",
      "source": [
        "# Rank 0 Tensor (Vector)\n",
        "tensor_rank_0 = tf.constant(22)\n",
        "print(\"Rank 0 Tensor:\", tensor_rank_0)"
      ],
      "metadata": {
        "colab": {
          "base_uri": "https://localhost:8080/"
        },
        "id": "rFeHrz-ga2TS",
        "outputId": "b58e2e30-b618-42b9-a197-bef7080c0daf"
      },
      "execution_count": null,
      "outputs": [
        {
          "output_type": "stream",
          "name": "stdout",
          "text": [
            "Rank 0 Tensor: tf.Tensor(22, shape=(), dtype=int32)\n"
          ]
        }
      ]
    },
    {
      "cell_type": "code",
      "execution_count": null,
      "metadata": {
        "colab": {
          "base_uri": "https://localhost:8080/"
        },
        "id": "UV3nh_1JZrqG",
        "outputId": "0bdf57e2-51ac-426a-fade-d3161b4ff751"
      },
      "outputs": [
        {
          "output_type": "stream",
          "name": "stdout",
          "text": [
            "Rank 1 Tensor: tf.Tensor([1 2 3 4 5], shape=(5,), dtype=int32)\n"
          ]
        }
      ],
      "source": [
        "# Rank 1 Tensor (Vector)\n",
        "tensor_rank_1 = tf.constant([1, 2, 3, 4, 5])\n",
        "print(\"Rank 1 Tensor:\", tensor_rank_1)"
      ]
    },
    {
      "cell_type": "code",
      "source": [
        "# Rank 2 Tensor (Matrix)\n",
        "tensor_rank_2 = tf.constant([[1, 2, 3], [4, 5, 6]])\n",
        "print(\"Rank 2 Tensor:\", tensor_rank_2)\n"
      ],
      "metadata": {
        "colab": {
          "base_uri": "https://localhost:8080/"
        },
        "id": "F9XncxQIa9Ad",
        "outputId": "b52235c7-85c3-44ac-e30d-3a801312121c"
      },
      "execution_count": null,
      "outputs": [
        {
          "output_type": "stream",
          "name": "stdout",
          "text": [
            "Rank 2 Tensor: tf.Tensor(\n",
            "[[1 2 3]\n",
            " [4 5 6]], shape=(2, 3), dtype=int32)\n"
          ]
        }
      ]
    },
    {
      "cell_type": "markdown",
      "source": [
        "#### A vous\n",
        "\n",
        "Chargez un fichier csv (Iris) dans un tenseur\n",
        "en utilisant la fonction\n",
        "`tf.convert_to_tensor()`\n",
        "\n",
        "- qu'est ce qui se passe et pourquoi ?\n"
      ],
      "metadata": {
        "id": "TT0glw1Uc93m"
      }
    },
    {
      "cell_type": "code",
      "source": [
        "# chargez un fichier csv (Iris) dans un tenseur\n",
        "# en utilisant la fonction\n",
        "# tf.convert_to_tensor()\n",
        "\n",
        "# load iris.csv\n",
        "import pandas as pd\n",
        "\n",
        "url = \"https://gist.githubusercontent.com/Thanatoz-1/9e7fdfb8189f0cdf5d73a494e4a6392a/raw/aaecbd14aeaa468cd749528f291aa8a30c2ea09e/iris_dataset.csv\"\n",
        "data = pd.read_csv(url)\n",
        "print(data.head())\n",
        "# votre code\n",
        "\n"
      ],
      "metadata": {
        "colab": {
          "base_uri": "https://localhost:8080/"
        },
        "id": "iaVU0v-DbItB",
        "outputId": "fe8fa06e-da9a-4c10-ac3f-29fe2bed50c6"
      },
      "execution_count": null,
      "outputs": [
        {
          "output_type": "stream",
          "name": "stdout",
          "text": [
            "   sepal length (cm)  sepal width (cm)  petal length (cm)  petal width (cm)  \\\n",
            "0                5.1               3.5                1.4               0.2   \n",
            "1                4.9               3.0                1.4               0.2   \n",
            "2                4.7               3.2                1.3               0.2   \n",
            "3                4.6               3.1                1.5               0.2   \n",
            "4                5.0               3.6                1.4               0.2   \n",
            "\n",
            "        target  \n",
            "0  Iris-setosa  \n",
            "1  Iris-setosa  \n",
            "2  Iris-setosa  \n",
            "3  Iris-setosa  \n",
            "4  Iris-setosa  \n"
          ]
        }
      ]
    },
    {
      "cell_type": "markdown",
      "source": [],
      "metadata": {
        "id": "3WphJDC1dwhD"
      }
    },
    {
      "cell_type": "code",
      "source": [
        "# charger une image\n",
        "\n",
        "image_file = 'etretat.jpg'\n",
        "image = tf.io.decode_jpeg(tf.io.read_file(image_file), channels=1)\n",
        "# Print the shape of the tensor\n",
        "print(\"Tensor shape:\", image.shape)\n"
      ],
      "metadata": {
        "id": "GkAMWWB4b_6D"
      },
      "execution_count": null,
      "outputs": []
    }
  ]
}