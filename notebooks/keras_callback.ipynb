{
  "nbformat": 4,
  "nbformat_minor": 0,
  "metadata": {
    "colab": {
      "provenance": []
    },
    "kernelspec": {
      "name": "python3",
      "display_name": "Python 3"
    },
    "language_info": {
      "name": "python"
    }
  },
  "cells": [
    {
      "cell_type": "markdown",
      "source": [
        "# Keras Callback\n",
        "\n",
        "Dans ce notebook nous allons ajouter un callback de sauvegarde des logs\n",
        "\n",
        "\n"
      ],
      "metadata": {
        "id": "Pd0jgdrXmHnM"
      }
    },
    {
      "cell_type": "code",
      "execution_count": 21,
      "metadata": {
        "colab": {
          "base_uri": "https://localhost:8080/"
        },
        "id": "c4_uVdIimD6-",
        "outputId": "cf65f3f3-2415-4563-ce20-fa77d46a0054"
      },
      "outputs": [
        {
          "output_type": "stream",
          "name": "stdout",
          "text": [
            "2.15.0\n"
          ]
        }
      ],
      "source": [
        "import numpy as np\n",
        "import matplotlib.pyplot as plt\n",
        "\n",
        "import tensorflow as tf\n",
        "\n",
        "print(tf.__version__)"
      ]
    },
    {
      "cell_type": "code",
      "source": [
        "# load le dataset\n",
        "(train_images, train_labels), (test_images, test_labels) = tf.keras.datasets.cifar10.load_data()"
      ],
      "metadata": {
        "id": "rKI8zYQamUCP"
      },
      "execution_count": 22,
      "outputs": []
    },
    {
      "cell_type": "code",
      "source": [
        "idx = 808\n",
        "\n",
        "print(f'LABEL: {train_labels[idx]} ')\n",
        "fig, ax = plt.subplots(1,1, figsize = (1,1))\n",
        "plt.imshow(train_images[idx])\n",
        "plt.axis('off')\n",
        "plt.show()"
      ],
      "metadata": {
        "colab": {
          "base_uri": "https://localhost:8080/",
          "height": 131
        },
        "id": "9dQkbTQSmcX0",
        "outputId": "d0547e4a-b873-4aa6-9b4a-59e0006ee28a"
      },
      "execution_count": 23,
      "outputs": [
        {
          "output_type": "stream",
          "name": "stdout",
          "text": [
            "LABEL: [2] \n"
          ]
        },
        {
          "output_type": "display_data",
          "data": {
            "text/plain": [
              "<Figure size 100x100 with 1 Axes>"
            ],
            "image/png": "[encoded data removed]"
          },
          "metadata": {}
        }
      ]
    },
    {
      "cell_type": "code",
      "source": [
        "## construire le modele et le compiler\n",
        "\n",
        "def create_model(n_nodes = 256, lr = 0.01):\n",
        "    model = tf.keras.models.Sequential([\n",
        "    tf.keras.layers.Flatten(input_shape=(32, 32, 3)),\n",
        "    tf.keras.layers.Dense(n_nodes, activation=tf.nn.relu),\n",
        "    tf.keras.layers.Dense(10, activation=tf.nn.softmax)\n",
        "    ])\n",
        "\n",
        "    # Compile the model\n",
        "    model.compile(optimizer=tf.optimizers.Adam(  learning_rate=lr),\n",
        "                loss='sparse_categorical_crossentropy',\n",
        "                metrics=['accuracy'])\n",
        "\n",
        "    return model\n"
      ],
      "metadata": {
        "id": "9OObuWGgoPPx"
      },
      "execution_count": 56,
      "outputs": []
    },
    {
      "cell_type": "code",
      "source": [
        "model = create_model()"
      ],
      "metadata": {
        "id": "uTGzAUxEzKa0"
      },
      "execution_count": 57,
      "outputs": []
    },
    {
      "cell_type": "code",
      "source": [
        "model.summary()"
      ],
      "metadata": {
        "colab": {
          "base_uri": "https://localhost:8080/"
        },
        "id": "P0qPwFbyqmv6",
        "outputId": "03c8f914-2559-4faa-e92e-16d45ee10382"
      },
      "execution_count": 59,
      "outputs": [
        {
          "output_type": "stream",
          "name": "stdout",
          "text": [
            "Model: \"sequential_6\"\n",
            "_________________________________________________________________\n",
            " Layer (type)                Output Shape              Param #   \n",
            "=================================================================\n",
            " flatten_6 (Flatten)         (None, 3072)              0         \n",
            "                                                                 \n",
            " dense_12 (Dense)            (None, 256)               786688    \n",
            "                                                                 \n",
            " dense_13 (Dense)            (None, 10)                2570      \n",
            "                                                                 \n",
            "=================================================================\n",
            "Total params: 789258 (3.01 MB)\n",
            "Trainable params: 789258 (3.01 MB)\n",
            "Non-trainable params: 0 (0.00 Byte)\n",
            "_________________________________________________________________\n"
          ]
        }
      ]
    },
    {
      "cell_type": "markdown",
      "source": [
        "callback early_stopping\n",
        "\n",
        "https://keras.io/api/callbacks/early_stopping/"
      ],
      "metadata": {
        "id": "NalYo45zxkCY"
      }
    },
    {
      "cell_type": "code",
      "source": [
        "early_stopping = tf.keras.callbacks.EarlyStopping(monitor='loss', patience=3)"
      ],
      "metadata": {
        "id": "KiY8Ldk1vso8"
      },
      "execution_count": 60,
      "outputs": []
    },
    {
      "cell_type": "code",
      "source": [
        "# entrainer le modele\n",
        "\n",
        "history = model.fit(train_images, train_labels, epochs=5, callbacks=[early_stopping])"
      ],
      "metadata": {
        "colab": {
          "base_uri": "https://localhost:8080/"
        },
        "id": "JO_Uko70qsiY",
        "outputId": "ee70eb5e-db78-4270-e19a-9d2531ca30d8"
      },
      "execution_count": 61,
      "outputs": [
        {
          "output_type": "stream",
          "name": "stdout",
          "text": [
            "Epoch 1/5\n",
            "1563/1563 [==============================] - 20s 12ms/step - loss: 130.0992 - accuracy: 0.1009\n",
            "Epoch 2/5\n",
            "1563/1563 [==============================] - 18s 11ms/step - loss: 2.3040 - accuracy: 0.0991\n",
            "Epoch 3/5\n",
            "1563/1563 [==============================] - 17s 11ms/step - loss: 2.3040 - accuracy: 0.0993\n",
            "Epoch 4/5\n",
            "1563/1563 [==============================] - 17s 11ms/step - loss: 2.3040 - accuracy: 0.0982\n",
            "Epoch 5/5\n",
            "1563/1563 [==============================] - 18s 11ms/step - loss: 2.3038 - accuracy: 0.0987\n"
          ]
        }
      ]
    },
    {
      "cell_type": "code",
      "source": [
        "# acceder aux courbes accuracy et loss\n",
        "history.history['accuracy']"
      ],
      "metadata": {
        "colab": {
          "base_uri": "https://localhost:8080/"
        },
        "id": "R2E33QbHuaug",
        "outputId": "90b0e6de-318f-4c37-ceeb-0b6b99ecb203"
      },
      "execution_count": 62,
      "outputs": [
        {
          "output_type": "execute_result",
          "data": {
            "text/plain": [
              "[0.10093999654054642,\n",
              " 0.09907999634742737,\n",
              " 0.09933999925851822,\n",
              " 0.0982000008225441,\n",
              " 0.09865999966859818]"
            ]
          },
          "metadata": {},
          "execution_count": 62
        }
      ]
    },
    {
      "cell_type": "markdown",
      "source": [
        "Autre callback\n",
        "\n",
        "https://keras.io/api/callbacks/reduce_lr_on_plateau/"
      ],
      "metadata": {
        "id": "uowvShuixgaI"
      }
    },
    {
      "cell_type": "code",
      "source": [
        "# reset le modele\n",
        "model = create_model()\n",
        "# callbacks\n",
        "# early stopping\n",
        "early_stopping = tf.keras.callbacks.EarlyStopping(monitor='loss', patience=4)\n",
        "# rajouter le call back ReduceLROnPlateau\n",
        "reduce_lr = tf.keras.callbacks.ReduceLROnPlateau(monitor='loss', factor=0.2, patience=2, min_lr=0.0001)\n",
        "\n",
        "\n",
        "history = model.fit(train_images, train_labels, epochs=10, callbacks=[early_stopping, reduce_lr])"
      ],
      "metadata": {
        "colab": {
          "base_uri": "https://localhost:8080/"
        },
        "id": "LVfH5n8ewXOb",
        "outputId": "afa12e64-b82e-4847-d213-20edd340ebaf"
      },
      "execution_count": 63,
      "outputs": [
        {
          "output_type": "stream",
          "name": "stdout",
          "text": [
            "Epoch 1/10\n",
            "1563/1563 [==============================] - 18s 11ms/step - loss: 99.2213 - accuracy: 0.0971 - lr: 0.0100\n",
            "Epoch 2/10\n",
            "1563/1563 [==============================] - 18s 11ms/step - loss: 2.3040 - accuracy: 0.0982 - lr: 0.0100\n",
            "Epoch 3/10\n",
            "1563/1563 [==============================] - 18s 11ms/step - loss: 2.3039 - accuracy: 0.0999 - lr: 0.0100\n",
            "Epoch 4/10\n",
            "1563/1563 [==============================] - 18s 11ms/step - loss: 2.3040 - accuracy: 0.0998 - lr: 0.0100\n",
            "Epoch 5/10\n",
            "1563/1563 [==============================] - 17s 11ms/step - loss: 2.3040 - accuracy: 0.0989 - lr: 0.0100\n",
            "Epoch 6/10\n",
            "1563/1563 [==============================] - 18s 11ms/step - loss: 2.3029 - accuracy: 0.1019 - lr: 0.0020\n",
            "Epoch 7/10\n",
            "1563/1563 [==============================] - 18s 11ms/step - loss: 2.3029 - accuracy: 0.1005 - lr: 0.0020\n",
            "Epoch 8/10\n",
            "1563/1563 [==============================] - 17s 11ms/step - loss: 2.3030 - accuracy: 0.0967 - lr: 0.0020\n",
            "Epoch 9/10\n",
            "1563/1563 [==============================] - 18s 12ms/step - loss: 2.3028 - accuracy: 0.0997 - lr: 4.0000e-04\n",
            "Epoch 10/10\n",
            "1563/1563 [==============================] - 17s 11ms/step - loss: 2.3027 - accuracy: 0.0969 - lr: 4.0000e-04\n"
          ]
        }
      ]
    },
    {
      "cell_type": "code",
      "source": [],
      "metadata": {
        "id": "2T5BcVOtxSbl"
      },
      "execution_count": null,
      "outputs": []
    }
  ]
}