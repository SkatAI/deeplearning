{
  "nbformat": 4,
  "nbformat_minor": 0,
  "metadata": {
    "colab": {
      "provenance": [],
      "gpuType": "T4"
    },
    "kernelspec": {
      "name": "python3",
      "display_name": "Python 3"
    },
    "language_info": {
      "name": "python"
    },
    "accelerator": "GPU"
  },
  "cells": [
    {
      "cell_type": "code",
      "source": [
        "import numpy as np\n",
        "import pandas as pd\n",
        "import datetime as dt\n",
        "import matplotlib.pyplot as plt\n",
        "import math\n",
        "\n",
        "import tensorflow as tf\n",
        "from tensorflow.keras.models import Sequential\n",
        "from tensorflow.keras.layers import SimpleRNN, Dense, Dropout, LSTM, GRU\n",
        "\n",
        "from tensorflow.keras.regularizers import l2\n",
        "\n",
        "from sklearn.preprocessing import MinMaxScaler\n",
        "import datetime, os\n",
        "\n",
        "\n",
        "pd.set_option('display.max_columns',30)\n",
        "pd.set_option('display.max_rows',10)\n",
        "\n",
        ""
      ],
      "metadata": {
        "id": "qYCBufolsDhh"
      },
      "execution_count": null,
      "outputs": []
    },
    {
      "cell_type": "code",
      "source": [
        "# load data\n",
        "data = pd.read_csv('https://raw.githubusercontent.com/SkatAI/deeplearning/master/data/sunspots.csv')\n",
        "data.columns = ['n', 'date', 'number']\n",
        "data.index = data['date']\n",
        "data.head()"
      ],
      "metadata": {
        "id": "nVib69FwkzUJ"
      },
      "execution_count": null,
      "outputs": []
    },
    {
      "cell_type": "code",
      "source": [
        "plt.plot(data['number'])"
      ],
      "metadata": {
        "id": "VWm9mIXisI6j"
      },
      "execution_count": null,
      "outputs": []
    },
    {
      "cell_type": "code",
      "source": [
        "# split train, test\n",
        "training_data_len = math.ceil(len(data) * .8)\n",
        "training_data_len\n",
        "\n",
        "#Splitting the dataset\n",
        "train_data = data[:training_data_len]['number']\n",
        "test_data = data[training_data_len:]['number']\n",
        "print(train_data.head())\n",
        "print(train_data.shape, test_data.shape)"
      ],
      "metadata": {
        "id": "IGORDakwlvPm"
      },
      "execution_count": null,
      "outputs": []
    },
    {
      "cell_type": "code",
      "source": [
        "\n",
        "dataset_train = train_data.values\n",
        "dataset_train = np.reshape(dataset_train, (-1,1))\n",
        "scaler = MinMaxScaler(feature_range=(0,1))\n",
        "# scaling dataset\n",
        "scaled_train = scaler.fit_transform(dataset_train)\n"
      ],
      "metadata": {
        "id": "a-Wm7jhol_JZ"
      },
      "execution_count": null,
      "outputs": []
    },
    {
      "cell_type": "code",
      "source": [
        "dataset_test = test_data.values\n",
        "dataset_test = np.reshape(dataset_test, (-1,1))\n",
        "scaler = MinMaxScaler(feature_range=(0,1))\n",
        "# scaling dataset\n",
        "scaled_test = scaler.fit_transform(dataset_test)\n"
      ],
      "metadata": {
        "id": "CgsQt28TmRTU"
      },
      "execution_count": null,
      "outputs": []
    },
    {
      "cell_type": "code",
      "source": [
        "# build sequences\n",
        "sequence_length = 50\n",
        "\n",
        "X_train = []\n",
        "y_train = []\n",
        "for i in range(50, len(scaled_train)):\n",
        "\tX_train.append(scaled_train[i-sequence_length:i, 0])\n",
        "\ty_train.append(scaled_train[i, 0])\n",
        "\n",
        "\n",
        "X_test = []\n",
        "y_test = []\n",
        "for i in range(50, len(scaled_test)):\n",
        "\tX_test.append(scaled_test[i-sequence_length:i, 0])\n",
        "\ty_test.append(scaled_test[i, 0])"
      ],
      "metadata": {
        "id": "sDIl9HhUnLii"
      },
      "execution_count": null,
      "outputs": []
    },
    {
      "cell_type": "code",
      "source": [
        "X_train, y_train = np.array(X_train), np.array(y_train)\n",
        "\n",
        "#Reshaping\n",
        "X_train = np.reshape(X_train, (X_train.shape[0], X_train.shape[1],1))\n",
        "y_train = np.reshape(y_train, (y_train.shape[0],1))\n",
        "print(\"X_train :\",X_train.shape,\"y_train :\",y_train.shape)\n"
      ],
      "metadata": {
        "id": "u8Joq_J5nXCk"
      },
      "execution_count": null,
      "outputs": []
    },
    {
      "cell_type": "code",
      "source": [
        "X_test, y_test = np.array(X_test), np.array(y_test)\n",
        "\n",
        "#Reshaping\n",
        "X_test = np.reshape(X_test, (X_test.shape[0], X_test.shape[1],1))\n",
        "y_test = np.reshape(y_test, (y_test.shape[0],1))\n",
        "print(\"X_test :\",X_test.shape,\"y_test :\",y_test.shape)"
      ],
      "metadata": {
        "id": "1jvYd2j5oZp8"
      },
      "execution_count": null,
      "outputs": []
    },
    {
      "cell_type": "code",
      "source": [
        "%load_ext tensorboard\n"
      ],
      "metadata": {
        "id": "9_Tuiqw3oaUu"
      },
      "execution_count": null,
      "outputs": []
    },
    {
      "cell_type": "markdown",
      "source": [
        "# Modelisation"
      ],
      "metadata": {
        "id": "z2KwyTUCoq4N"
      }
    },
    {
      "cell_type": "code",
      "source": [
        "%tensorboard --logdir logs\n"
      ],
      "metadata": {
        "id": "rXkTXNlkpzao"
      },
      "execution_count": null,
      "outputs": []
    },
    {
      "cell_type": "code",
      "source": [
        "logdir = os.path.join(\"logs\", datetime.datetime.now().strftime(\"%Y%m%d-%H%M%S\"))\n",
        "\n",
        "tensorboard_callback = tf.keras.callbacks.TensorBoard(logdir, histogram_freq=1)\n",
        ""
      ],
      "metadata": {
        "id": "ebulAYpioeMX"
      },
      "execution_count": null,
      "outputs": []
    },
    {
      "cell_type": "code",
      "source": [
        "\n",
        "model = Sequential()\n",
        "model.add(SimpleRNN(100, activation='relu', input_shape=(sequence_length, 1)))\n",
        "model.add(Dense(1, activation = 'linear'))\n",
        "\n",
        "# Compile the model\n",
        "model.compile(optimizer='adam', loss='mse')\n",
        "\n",
        "\n",
        "model.summary()"
      ],
      "metadata": {
        "collapsed": true,
        "id": "-3FXYv5bogVL"
      },
      "execution_count": null,
      "outputs": []
    },
    {
      "cell_type": "code",
      "source": [
        "# Train the model\n",
        "logdir = os.path.join(\"logs\", datetime.datetime.now().strftime(\"%Y%m%d-%H%M%S\"))\n",
        "\n",
        "tensorboard_callback = tf.keras.callbacks.TensorBoard(logdir, histogram_freq=1)\n",
        "\n",
        "\n",
        "model.fit(X_train, y_train,\n",
        "    epochs=10,\n",
        "    batch_size=16,\n",
        "    validation_data = (X_test, y_test),\n",
        "    callbacks=[tensorboard_callback]\n",
        ")\n"
      ],
      "metadata": {
        "id": "v16_mPp2pnFz"
      },
      "execution_count": null,
      "outputs": []
    },
    {
      "cell_type": "code",
      "source": [
        "from sklearn.metrics import mean_squared_error\n",
        "\n",
        "y_pred = model.predict(X_test)\n",
        "\n",
        "rmse = np.sqrt(mean_squared_error(y_test.flatten(), y_pred.flatten()))\n",
        "\n",
        "print(f\"rmse {rmse}\")"
      ],
      "metadata": {
        "id": "WsWZKJwUosmh"
      },
      "execution_count": null,
      "outputs": []
    },
    {
      "cell_type": "code",
      "source": [
        "# 2 ieme modele\n",
        "# regularization L2\n",
        "\n",
        "model = Sequential()\n",
        "# on remplace :\n",
        "# model.add(SimpleRNN(100, activation='relu', input_shape=(sequence_length, 1)))\n",
        "\n",
        "# par :\n",
        "model.add(SimpleRNN(100, activation='relu', input_shape=(sequence_length, 1),\n",
        "                    kernel_regularizer=l2(0.001), recurrent_regularizer=l2(0.001)))\n",
        "\n",
        "\n",
        "# model.add(Dropout(0.5))\n",
        "model.add(Dense(1, activation = 'linear'))\n",
        "\n",
        "# Compile the model\n",
        "model.compile(optimizer='adam', loss='mse')\n",
        "\n",
        "\n",
        "model.summary()\n",
        "\n",
        "# tensorboard call back\n",
        "logdir = os.path.join(\"logs\", datetime.datetime.now().strftime(\"%Y%m%d-%H%M%S\"))\n",
        "tensorboard_callback = tf.keras.callbacks.TensorBoard(logdir, histogram_freq=1)\n",
        "\n",
        "\n",
        "model.fit(X_train, y_train,\n",
        "    epochs=10,\n",
        "    batch_size=16,\n",
        "    validation_data = (X_test, y_test),\n",
        "    callbacks=[tensorboard_callback]\n",
        ")\n"
      ],
      "metadata": {
        "id": "GyTi5QnJqLtV"
      },
      "execution_count": null,
      "outputs": []
    },
    {
      "cell_type": "code",
      "source": [
        "y_pred = model.predict(X_test)\n",
        "\n",
        "rmse = np.sqrt(mean_squared_error(y_test.flatten(), y_pred.flatten()))\n",
        "\n",
        "print(f\"rmse {rmse}\")"
      ],
      "metadata": {
        "id": "YsUNhcjou7EY"
      },
      "execution_count": null,
      "outputs": []
    },
    {
      "cell_type": "markdown",
      "source": [
        "# Ensuite\n",
        "\n",
        "continuer a ameliorer la perf\n",
        "- cell : LSTM ou GRU\n",
        "-\n"
      ],
      "metadata": {
        "id": "6NtuC4Ip0IlA"
      }
    },
    {
      "cell_type": "code",
      "source": [
        "model = Sequential()\n",
        "# on remplace :\n",
        "# model.add(SimpleRNN(100, activation='relu', input_shape=(sequence_length, 1)))\n",
        "\n",
        "# par :\n",
        "model.add(LSTM(100, activation='relu', input_shape=(sequence_length, 1),\n",
        "                    kernel_regularizer=l2(0.001), recurrent_regularizer=l2(0.001)))\n",
        "\n",
        "# model.add(Dropout(0.5))\n",
        "model.add(Dense(1, activation = 'linear'))\n",
        "\n",
        "# Compile the model\n",
        "model.compile(optimizer='adam', loss='mse')\n",
        "\n",
        "\n",
        "model.summary()\n",
        "\n",
        "# tensorboard call back\n",
        "logdir = os.path.join(\"logs\", datetime.datetime.now().strftime(\"%Y%m%d-%H%M%S\"))\n",
        "tensorboard_callback = tf.keras.callbacks.TensorBoard(logdir, histogram_freq=1)\n",
        "\n",
        "\n",
        "model.fit(X_train, y_train,\n",
        "    epochs=10,\n",
        "    batch_size=16,\n",
        "    validation_data = (X_test, y_test),\n",
        "    callbacks=[tensorboard_callback]\n",
        ")"
      ],
      "metadata": {
        "id": "QjWl851duqNu"
      },
      "execution_count": null,
      "outputs": []
    },
    {
      "cell_type": "code",
      "source": [
        "y_pred = model.predict(X_test)\n",
        "\n",
        "rmse = np.sqrt(mean_squared_error(y_test.flatten(), y_pred.flatten()))\n",
        "\n",
        "print(f\"rmse {rmse}\")"
      ],
      "metadata": {
        "id": "TNZ5LvHo2RB-"
      },
      "execution_count": null,
      "outputs": []
    },
    {
      "cell_type": "code",
      "source": [],
      "metadata": {
        "id": "10vl2n--1IDB"
      },
      "execution_count": null,
      "outputs": []
    }
  ]
}